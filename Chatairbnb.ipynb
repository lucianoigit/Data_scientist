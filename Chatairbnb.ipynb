{
  "nbformat": 4,
  "nbformat_minor": 0,
  "metadata": {
    "colab": {
      "provenance": [],
      "authorship_tag": "ABX9TyPtTrOB+vMCwOf4U0WLTBaI",
      "include_colab_link": true
    },
    "kernelspec": {
      "name": "python3",
      "display_name": "Python 3"
    },
    "language_info": {
      "name": "python"
    }
  },
  "cells": [
    {
      "cell_type": "markdown",
      "metadata": {
        "id": "view-in-github",
        "colab_type": "text"
      },
      "source": [
        "<a href=\"https://colab.research.google.com/github/lucianoigit/Data_scientist/blob/main/Chatairbnb.ipynb\" target=\"_parent\"><img src=\"https://colab.research.google.com/assets/colab-badge.svg\" alt=\"Open In Colab\"/></a>"
      ]
    },
    {
      "cell_type": "markdown",
      "source": [
        "Autor : Luciano Iriarte\n",
        "Tema: Clasificacion de departamentos disponibles en el dataset de Airbnb buenos aires\n",
        "Objetivo: Chat interactivo para obtener una recomendacion de alquiler segun un una descripcion de entrada por el usuario.\n",
        "fecha: 5/5/2023"
      ],
      "metadata": {
        "id": "wzPkqIc0gMdx"
      }
    },
    {
      "cell_type": "code",
      "execution_count": 1,
      "metadata": {
        "colab": {
          "base_uri": "https://localhost:8080/"
        },
        "id": "3zjZmIrXSGnt",
        "outputId": "5be1a227-ba53-4bdb-9d05-57cb4e598edc"
      },
      "outputs": [
        {
          "output_type": "stream",
          "name": "stdout",
          "text": [
            "(20085, 75)\n",
            "Index(['id', 'listing_url', 'scrape_id', 'last_scraped', 'source', 'name',\n",
            "       'description', 'neighborhood_overview', 'picture_url', 'host_id',\n",
            "       'host_url', 'host_name', 'host_since', 'host_location', 'host_about',\n",
            "       'host_response_time', 'host_response_rate', 'host_acceptance_rate',\n",
            "       'host_is_superhost', 'host_thumbnail_url', 'host_picture_url',\n",
            "       'host_neighbourhood', 'host_listings_count',\n",
            "       'host_total_listings_count', 'host_verifications',\n",
            "       'host_has_profile_pic', 'host_identity_verified', 'neighbourhood',\n",
            "       'neighbourhood_cleansed', 'neighbourhood_group_cleansed', 'latitude',\n",
            "       'longitude', 'property_type', 'room_type', 'accommodates', 'bathrooms',\n",
            "       'bathrooms_text', 'bedrooms', 'beds', 'amenities', 'price',\n",
            "       'minimum_nights', 'maximum_nights', 'minimum_minimum_nights',\n",
            "       'maximum_minimum_nights', 'minimum_maximum_nights',\n",
            "       'maximum_maximum_nights', 'minimum_nights_avg_ntm',\n",
            "       'maximum_nights_avg_ntm', 'calendar_updated', 'has_availability',\n",
            "       'availability_30', 'availability_60', 'availability_90',\n",
            "       'availability_365', 'calendar_last_scraped', 'number_of_reviews',\n",
            "       'number_of_reviews_ltm', 'number_of_reviews_l30d', 'first_review',\n",
            "       'last_review', 'review_scores_rating', 'review_scores_accuracy',\n",
            "       'review_scores_cleanliness', 'review_scores_checkin',\n",
            "       'review_scores_communication', 'review_scores_location',\n",
            "       'review_scores_value', 'license', 'instant_bookable',\n",
            "       'calculated_host_listings_count',\n",
            "       'calculated_host_listings_count_entire_homes',\n",
            "       'calculated_host_listings_count_private_rooms',\n",
            "       'calculated_host_listings_count_shared_rooms', 'reviews_per_month'],\n",
            "      dtype='object')\n",
            "hay datos ausentes?True\n",
            "<class 'pandas.core.frame.DataFrame'>\n",
            "RangeIndex: 20085 entries, 0 to 20084\n",
            "Data columns (total 75 columns):\n",
            " #   Column                                        Non-Null Count  Dtype  \n",
            "---  ------                                        --------------  -----  \n",
            " 0   id                                            20085 non-null  int64  \n",
            " 1   listing_url                                   20085 non-null  object \n",
            " 2   scrape_id                                     20085 non-null  int64  \n",
            " 3   last_scraped                                  20085 non-null  object \n",
            " 4   source                                        20085 non-null  object \n",
            " 5   name                                          20082 non-null  object \n",
            " 6   description                                   19566 non-null  object \n",
            " 7   neighborhood_overview                         11420 non-null  object \n",
            " 8   picture_url                                   20085 non-null  object \n",
            " 9   host_id                                       20085 non-null  int64  \n",
            " 10  host_url                                      20085 non-null  object \n",
            " 11  host_name                                     20085 non-null  object \n",
            " 12  host_since                                    20085 non-null  object \n",
            " 13  host_location                                 15776 non-null  object \n",
            " 14  host_about                                    11682 non-null  object \n",
            " 15  host_response_time                            17862 non-null  object \n",
            " 16  host_response_rate                            17862 non-null  object \n",
            " 17  host_acceptance_rate                          18189 non-null  object \n",
            " 18  host_is_superhost                             20085 non-null  object \n",
            " 19  host_thumbnail_url                            20085 non-null  object \n",
            " 20  host_picture_url                              20085 non-null  object \n",
            " 21  host_neighbourhood                            14583 non-null  object \n",
            " 22  host_listings_count                           20085 non-null  int64  \n",
            " 23  host_total_listings_count                     20085 non-null  int64  \n",
            " 24  host_verifications                            20085 non-null  object \n",
            " 25  host_has_profile_pic                          20085 non-null  object \n",
            " 26  host_identity_verified                        20085 non-null  object \n",
            " 27  neighbourhood                                 11420 non-null  object \n",
            " 28  neighbourhood_cleansed                        20085 non-null  object \n",
            " 29  neighbourhood_group_cleansed                  0 non-null      float64\n",
            " 30  latitude                                      20085 non-null  float64\n",
            " 31  longitude                                     20085 non-null  float64\n",
            " 32  property_type                                 20085 non-null  object \n",
            " 33  room_type                                     20085 non-null  object \n",
            " 34  accommodates                                  20085 non-null  int64  \n",
            " 35  bathrooms                                     0 non-null      float64\n",
            " 36  bathrooms_text                                20058 non-null  object \n",
            " 37  bedrooms                                      17358 non-null  float64\n",
            " 38  beds                                          19849 non-null  float64\n",
            " 39  amenities                                     20085 non-null  object \n",
            " 40  price                                         20085 non-null  object \n",
            " 41  minimum_nights                                20085 non-null  int64  \n",
            " 42  maximum_nights                                20085 non-null  int64  \n",
            " 43  minimum_minimum_nights                        20085 non-null  int64  \n",
            " 44  maximum_minimum_nights                        20085 non-null  int64  \n",
            " 45  minimum_maximum_nights                        20085 non-null  int64  \n",
            " 46  maximum_maximum_nights                        20085 non-null  int64  \n",
            " 47  minimum_nights_avg_ntm                        20085 non-null  float64\n",
            " 48  maximum_nights_avg_ntm                        20085 non-null  float64\n",
            " 49  calendar_updated                              0 non-null      float64\n",
            " 50  has_availability                              20085 non-null  object \n",
            " 51  availability_30                               20085 non-null  int64  \n",
            " 52  availability_60                               20085 non-null  int64  \n",
            " 53  availability_90                               20085 non-null  int64  \n",
            " 54  availability_365                              20085 non-null  int64  \n",
            " 55  calendar_last_scraped                         20085 non-null  object \n",
            " 56  number_of_reviews                             20085 non-null  int64  \n",
            " 57  number_of_reviews_ltm                         20085 non-null  int64  \n",
            " 58  number_of_reviews_l30d                        20085 non-null  int64  \n",
            " 59  first_review                                  16254 non-null  object \n",
            " 60  last_review                                   16254 non-null  object \n",
            " 61  review_scores_rating                          16254 non-null  float64\n",
            " 62  review_scores_accuracy                        16170 non-null  float64\n",
            " 63  review_scores_cleanliness                     16170 non-null  float64\n",
            " 64  review_scores_checkin                         16170 non-null  float64\n",
            " 65  review_scores_communication                   16171 non-null  float64\n",
            " 66  review_scores_location                        16170 non-null  float64\n",
            " 67  review_scores_value                           16171 non-null  float64\n",
            " 68  license                                       413 non-null    object \n",
            " 69  instant_bookable                              20085 non-null  object \n",
            " 70  calculated_host_listings_count                20085 non-null  int64  \n",
            " 71  calculated_host_listings_count_entire_homes   20085 non-null  int64  \n",
            " 72  calculated_host_listings_count_private_rooms  20085 non-null  int64  \n",
            " 73  calculated_host_listings_count_shared_rooms   20085 non-null  int64  \n",
            " 74  reviews_per_month                             16254 non-null  float64\n",
            "dtypes: float64(17), int64(23), object(35)\n",
            "memory usage: 11.5+ MB\n"
          ]
        },
        {
          "output_type": "execute_result",
          "data": {
            "text/plain": [
              "0    1.0\n",
              "1    1.0\n",
              "2    2.0\n",
              "3    1.0\n",
              "4    1.0\n",
              "5    1.0\n",
              "6    1.0\n",
              "7    2.0\n",
              "8    1.0\n",
              "9    2.0\n",
              "Name: beds, dtype: float64"
            ]
          },
          "metadata": {},
          "execution_count": 1
        }
      ],
      "source": [
        "import pandas as pd\n",
        "import numpy as np\n",
        "import nltk\n",
        "from nltk.corpus import stopwords\n",
        "from sklearn.model_selection import train_test_split\n",
        "from sklearn.feature_extraction.text import TfidfVectorizer\n",
        "from sklearn.pipeline import Pipeline\n",
        "from sklearn.metrics import accuracy_score, precision_score, recall_score, f1_score\n",
        "from sklearn.multiclass import OneVsRestClassifier\n",
        "from sklearn.svm import SVC\n",
        "\n",
        "# Cargar los datos de Airbnb\n",
        "df = pd.read_csv('/content/listings.csv.gz')\n",
        "print(df.shape)\n",
        "print(df.columns)\n",
        "\n",
        "\n",
        "print(f\"hay datos ausentes?{df.isnull().any().any()}\")\n",
        "# Analizamos el dataset \n",
        "df.info()\n",
        "df.beds.head(10)\n",
        "\n"
      ]
    },
    {
      "cell_type": "code",
      "source": [
        "df=df.drop(['id', 'listing_url', 'scrape_id', 'last_scraped', 'source',\n",
        "       'picture_url', 'host_id',\n",
        "       'host_url', 'host_name', 'host_since', 'host_location', 'host_about',\n",
        "       'host_response_time', 'host_response_rate', 'host_acceptance_rate',\n",
        "       'host_is_superhost', 'host_thumbnail_url', 'host_picture_url',\n",
        "       'host_neighbourhood', 'host_listings_count',\n",
        "       'host_total_listings_count', 'host_verifications',\n",
        "       'host_has_profile_pic', 'host_identity_verified',\n",
        "       'neighbourhood_group_cleansed', 'latitude',\n",
        "       'longitude','bathrooms','minimum_minimum_nights',\n",
        "       'maximum_minimum_nights', 'minimum_maximum_nights',\n",
        "       'maximum_maximum_nights', 'minimum_nights_avg_ntm',\n",
        "       'maximum_nights_avg_ntm', 'calendar_updated',\n",
        "       'availability_30', 'availability_60', 'availability_90',\n",
        "       'availability_365', 'calendar_last_scraped', 'number_of_reviews',\n",
        "       'number_of_reviews_ltm', 'number_of_reviews_l30d', 'first_review',\n",
        "       'last_review', 'review_scores_accuracy',\n",
        "       'review_scores_cleanliness', 'review_scores_checkin',\n",
        "       'review_scores_communication', 'review_scores_location',\n",
        "       'review_scores_value', 'license',\n",
        "       'calculated_host_listings_count',\n",
        "       'calculated_host_listings_count_entire_homes',\n",
        "       'calculated_host_listings_count_private_rooms',\n",
        "       'calculated_host_listings_count_shared_rooms', 'reviews_per_month'],axis=1 )\n",
        "\n"
      ],
      "metadata": {
        "id": "IEh7EbP-96Mb"
      },
      "execution_count": 2,
      "outputs": []
    },
    {
      "cell_type": "code",
      "source": [
        "print(df.columns)\n",
        "df.info()\n",
        "\n"
      ],
      "metadata": {
        "colab": {
          "base_uri": "https://localhost:8080/"
        },
        "id": "LnsNKKejoB29",
        "outputId": "acb16395-ce8d-4aa9-eeca-d34624dd62b1"
      },
      "execution_count": 3,
      "outputs": [
        {
          "output_type": "stream",
          "name": "stdout",
          "text": [
            "Index(['name', 'description', 'neighborhood_overview', 'neighbourhood',\n",
            "       'neighbourhood_cleansed', 'property_type', 'room_type', 'accommodates',\n",
            "       'bathrooms_text', 'bedrooms', 'beds', 'amenities', 'price',\n",
            "       'minimum_nights', 'maximum_nights', 'has_availability',\n",
            "       'review_scores_rating', 'instant_bookable'],\n",
            "      dtype='object')\n",
            "<class 'pandas.core.frame.DataFrame'>\n",
            "RangeIndex: 20085 entries, 0 to 20084\n",
            "Data columns (total 18 columns):\n",
            " #   Column                  Non-Null Count  Dtype  \n",
            "---  ------                  --------------  -----  \n",
            " 0   name                    20082 non-null  object \n",
            " 1   description             19566 non-null  object \n",
            " 2   neighborhood_overview   11420 non-null  object \n",
            " 3   neighbourhood           11420 non-null  object \n",
            " 4   neighbourhood_cleansed  20085 non-null  object \n",
            " 5   property_type           20085 non-null  object \n",
            " 6   room_type               20085 non-null  object \n",
            " 7   accommodates            20085 non-null  int64  \n",
            " 8   bathrooms_text          20058 non-null  object \n",
            " 9   bedrooms                17358 non-null  float64\n",
            " 10  beds                    19849 non-null  float64\n",
            " 11  amenities               20085 non-null  object \n",
            " 12  price                   20085 non-null  object \n",
            " 13  minimum_nights          20085 non-null  int64  \n",
            " 14  maximum_nights          20085 non-null  int64  \n",
            " 15  has_availability        20085 non-null  object \n",
            " 16  review_scores_rating    16254 non-null  float64\n",
            " 17  instant_bookable        20085 non-null  object \n",
            "dtypes: float64(3), int64(3), object(12)\n",
            "memory usage: 2.8+ MB\n"
          ]
        }
      ]
    },
    {
      "cell_type": "code",
      "source": [
        "df.name"
      ],
      "metadata": {
        "colab": {
          "base_uri": "https://localhost:8080/"
        },
        "id": "fHopypuqNkPW",
        "outputId": "cd2fc43b-741c-459f-a873-a2f4072f92b8"
      },
      "execution_count": 4,
      "outputs": [
        {
          "output_type": "execute_result",
          "data": {
            "text/plain": [
              "0                  Amazing Luxurious Apt-Palermo Soho\n",
              "1        RELAX IN HAPPY HOUSE - PALERMO, BUENOS AIRES\n",
              "2               Amazing view - GREAT Studio - Balcony\n",
              "3                         Single Room in Palermo Soho\n",
              "4                               ROOM WITH RIVER SIGHT\n",
              "                             ...                     \n",
              "20080                 Hermoso departamento en Cañitas\n",
              "20081                       Departamento de categoría\n",
              "20082                  Loft, parrilla y terraza en BA\n",
              "20083                   Dpto.un dormitorio con balcón\n",
              "20084                   Departamento recoleta amplio.\n",
              "Name: name, Length: 20085, dtype: object"
            ]
          },
          "metadata": {},
          "execution_count": 4
        }
      ]
    },
    {
      "cell_type": "code",
      "source": [
        "import re\n",
        "def preprocesar_texto(texto):\n",
        "    if isinstance(texto, str):\n",
        "        # eliminar etiquetas HTML\n",
        "        texto = re.sub(r'<[^>]+>', '', texto)\n",
        "        # eliminar caracteres que no sean texto o números\n",
        "        texto = re.sub(r'\\W', ' ', texto)\n",
        "        # convertir a minúsculas\n",
        "        texto = texto.lower()\n",
        "    return texto\n",
        "\n",
        "\n"
      ],
      "metadata": {
        "id": "ZllR-eWeoDBi"
      },
      "execution_count": 5,
      "outputs": []
    },
    {
      "cell_type": "code",
      "source": [
        "for columna in df.columns:\n",
        "    df[columna] = df[columna].apply(preprocesar_texto)"
      ],
      "metadata": {
        "id": "L_Zu7-tCdUn3"
      },
      "execution_count": 6,
      "outputs": []
    },
    {
      "cell_type": "markdown",
      "source": [
        "TOMO LA DECISION PARA ESTE CASO DE UTILIZAR SOLO A COLUMNA DESCRIPTION Y ROOM_TYPE.\n",
        "\n",
        "Mas adelante utilizaremos mas parametros para el aprendizaje"
      ],
      "metadata": {
        "id": "SZD79dIy3yiO"
      }
    },
    {
      "cell_type": "code",
      "source": [
        "df = df[['description', 'name']]"
      ],
      "metadata": {
        "id": "bGRoDU4tewPE"
      },
      "execution_count": 12,
      "outputs": []
    },
    {
      "cell_type": "code",
      "source": [
        "df = df.dropna(subset=['description'])"
      ],
      "metadata": {
        "id": "maRUBMYv1Plh"
      },
      "execution_count": 15,
      "outputs": []
    },
    {
      "cell_type": "code",
      "source": [
        "df.info()\n",
        "df"
      ],
      "metadata": {
        "colab": {
          "base_uri": "https://localhost:8080/",
          "height": 586
        },
        "id": "1keBautT1VS7",
        "outputId": "2d787f61-f3b9-4b35-9c28-14c80550ce93"
      },
      "execution_count": 16,
      "outputs": [
        {
          "output_type": "stream",
          "name": "stdout",
          "text": [
            "<class 'pandas.core.frame.DataFrame'>\n",
            "Int64Index: 19564 entries, 0 to 20084\n",
            "Data columns (total 2 columns):\n",
            " #   Column       Non-Null Count  Dtype \n",
            "---  ------       --------------  ----- \n",
            " 0   description  19564 non-null  object\n",
            " 1   name         19564 non-null  object\n",
            "dtypes: object(2)\n",
            "memory usage: 458.5+ KB\n"
          ]
        },
        {
          "output_type": "execute_result",
          "data": {
            "text/plain": [
              "                                             description  \\\n",
              "0      the spaceluxurious new apt  1 bdrm  pool  gym ...   \n",
              "1      beautiful cozy apartment in excellent location...   \n",
              "2      the apartment is in an upscale brand new build...   \n",
              "3      the spacethis single room  shared bathroom  ha...   \n",
              "4      the spacei offer a room in my apartment locate...   \n",
              "...                                                  ...   \n",
              "20080    relajate en este alojamiento único y tranquilo    \n",
              "20081  inmejorable zona palier privado hermoso depart...   \n",
              "20082  disfrutá de la sencillez de este alojamiento t...   \n",
              "20083  hermoso depto de un dormitorio en belgrano  id...   \n",
              "20084  departamento en semipiso  edificio de 5 pisos ...   \n",
              "\n",
              "                                               name  \n",
              "0                amazing luxurious apt palermo soho  \n",
              "1      relax in happy house   palermo  buenos aires  \n",
              "2             amazing view   great studio   balcony  \n",
              "3                       single room in palermo soho  \n",
              "4                             room with river sight  \n",
              "...                                             ...  \n",
              "20080               hermoso departamento en cañitas  \n",
              "20081                     departamento de categoría  \n",
              "20082                loft  parrilla y terraza en ba  \n",
              "20083                 dpto un dormitorio con balcón  \n",
              "20084                 departamento recoleta amplio   \n",
              "\n",
              "[19564 rows x 2 columns]"
            ],
            "text/html": [
              "\n",
              "  <div id=\"df-840e0692-f66e-4c8b-b1f3-c30cd12626f9\">\n",
              "    <div class=\"colab-df-container\">\n",
              "      <div>\n",
              "<style scoped>\n",
              "    .dataframe tbody tr th:only-of-type {\n",
              "        vertical-align: middle;\n",
              "    }\n",
              "\n",
              "    .dataframe tbody tr th {\n",
              "        vertical-align: top;\n",
              "    }\n",
              "\n",
              "    .dataframe thead th {\n",
              "        text-align: right;\n",
              "    }\n",
              "</style>\n",
              "<table border=\"1\" class=\"dataframe\">\n",
              "  <thead>\n",
              "    <tr style=\"text-align: right;\">\n",
              "      <th></th>\n",
              "      <th>description</th>\n",
              "      <th>name</th>\n",
              "    </tr>\n",
              "  </thead>\n",
              "  <tbody>\n",
              "    <tr>\n",
              "      <th>0</th>\n",
              "      <td>the spaceluxurious new apt  1 bdrm  pool  gym ...</td>\n",
              "      <td>amazing luxurious apt palermo soho</td>\n",
              "    </tr>\n",
              "    <tr>\n",
              "      <th>1</th>\n",
              "      <td>beautiful cozy apartment in excellent location...</td>\n",
              "      <td>relax in happy house   palermo  buenos aires</td>\n",
              "    </tr>\n",
              "    <tr>\n",
              "      <th>2</th>\n",
              "      <td>the apartment is in an upscale brand new build...</td>\n",
              "      <td>amazing view   great studio   balcony</td>\n",
              "    </tr>\n",
              "    <tr>\n",
              "      <th>3</th>\n",
              "      <td>the spacethis single room  shared bathroom  ha...</td>\n",
              "      <td>single room in palermo soho</td>\n",
              "    </tr>\n",
              "    <tr>\n",
              "      <th>4</th>\n",
              "      <td>the spacei offer a room in my apartment locate...</td>\n",
              "      <td>room with river sight</td>\n",
              "    </tr>\n",
              "    <tr>\n",
              "      <th>...</th>\n",
              "      <td>...</td>\n",
              "      <td>...</td>\n",
              "    </tr>\n",
              "    <tr>\n",
              "      <th>20080</th>\n",
              "      <td>relajate en este alojamiento único y tranquilo</td>\n",
              "      <td>hermoso departamento en cañitas</td>\n",
              "    </tr>\n",
              "    <tr>\n",
              "      <th>20081</th>\n",
              "      <td>inmejorable zona palier privado hermoso depart...</td>\n",
              "      <td>departamento de categoría</td>\n",
              "    </tr>\n",
              "    <tr>\n",
              "      <th>20082</th>\n",
              "      <td>disfrutá de la sencillez de este alojamiento t...</td>\n",
              "      <td>loft  parrilla y terraza en ba</td>\n",
              "    </tr>\n",
              "    <tr>\n",
              "      <th>20083</th>\n",
              "      <td>hermoso depto de un dormitorio en belgrano  id...</td>\n",
              "      <td>dpto un dormitorio con balcón</td>\n",
              "    </tr>\n",
              "    <tr>\n",
              "      <th>20084</th>\n",
              "      <td>departamento en semipiso  edificio de 5 pisos ...</td>\n",
              "      <td>departamento recoleta amplio</td>\n",
              "    </tr>\n",
              "  </tbody>\n",
              "</table>\n",
              "<p>19564 rows × 2 columns</p>\n",
              "</div>\n",
              "      <button class=\"colab-df-convert\" onclick=\"convertToInteractive('df-840e0692-f66e-4c8b-b1f3-c30cd12626f9')\"\n",
              "              title=\"Convert this dataframe to an interactive table.\"\n",
              "              style=\"display:none;\">\n",
              "        \n",
              "  <svg xmlns=\"http://www.w3.org/2000/svg\" height=\"24px\"viewBox=\"0 0 24 24\"\n",
              "       width=\"24px\">\n",
              "    <path d=\"M0 0h24v24H0V0z\" fill=\"none\"/>\n",
              "    <path d=\"M18.56 5.44l.94 2.06.94-2.06 2.06-.94-2.06-.94-.94-2.06-.94 2.06-2.06.94zm-11 1L8.5 8.5l.94-2.06 2.06-.94-2.06-.94L8.5 2.5l-.94 2.06-2.06.94zm10 10l.94 2.06.94-2.06 2.06-.94-2.06-.94-.94-2.06-.94 2.06-2.06.94z\"/><path d=\"M17.41 7.96l-1.37-1.37c-.4-.4-.92-.59-1.43-.59-.52 0-1.04.2-1.43.59L10.3 9.45l-7.72 7.72c-.78.78-.78 2.05 0 2.83L4 21.41c.39.39.9.59 1.41.59.51 0 1.02-.2 1.41-.59l7.78-7.78 2.81-2.81c.8-.78.8-2.07 0-2.86zM5.41 20L4 18.59l7.72-7.72 1.47 1.35L5.41 20z\"/>\n",
              "  </svg>\n",
              "      </button>\n",
              "      \n",
              "  <style>\n",
              "    .colab-df-container {\n",
              "      display:flex;\n",
              "      flex-wrap:wrap;\n",
              "      gap: 12px;\n",
              "    }\n",
              "\n",
              "    .colab-df-convert {\n",
              "      background-color: #E8F0FE;\n",
              "      border: none;\n",
              "      border-radius: 50%;\n",
              "      cursor: pointer;\n",
              "      display: none;\n",
              "      fill: #1967D2;\n",
              "      height: 32px;\n",
              "      padding: 0 0 0 0;\n",
              "      width: 32px;\n",
              "    }\n",
              "\n",
              "    .colab-df-convert:hover {\n",
              "      background-color: #E2EBFA;\n",
              "      box-shadow: 0px 1px 2px rgba(60, 64, 67, 0.3), 0px 1px 3px 1px rgba(60, 64, 67, 0.15);\n",
              "      fill: #174EA6;\n",
              "    }\n",
              "\n",
              "    [theme=dark] .colab-df-convert {\n",
              "      background-color: #3B4455;\n",
              "      fill: #D2E3FC;\n",
              "    }\n",
              "\n",
              "    [theme=dark] .colab-df-convert:hover {\n",
              "      background-color: #434B5C;\n",
              "      box-shadow: 0px 1px 3px 1px rgba(0, 0, 0, 0.15);\n",
              "      filter: drop-shadow(0px 1px 2px rgba(0, 0, 0, 0.3));\n",
              "      fill: #FFFFFF;\n",
              "    }\n",
              "  </style>\n",
              "\n",
              "      <script>\n",
              "        const buttonEl =\n",
              "          document.querySelector('#df-840e0692-f66e-4c8b-b1f3-c30cd12626f9 button.colab-df-convert');\n",
              "        buttonEl.style.display =\n",
              "          google.colab.kernel.accessAllowed ? 'block' : 'none';\n",
              "\n",
              "        async function convertToInteractive(key) {\n",
              "          const element = document.querySelector('#df-840e0692-f66e-4c8b-b1f3-c30cd12626f9');\n",
              "          const dataTable =\n",
              "            await google.colab.kernel.invokeFunction('convertToInteractive',\n",
              "                                                     [key], {});\n",
              "          if (!dataTable) return;\n",
              "\n",
              "          const docLinkHtml = 'Like what you see? Visit the ' +\n",
              "            '<a target=\"_blank\" href=https://colab.research.google.com/notebooks/data_table.ipynb>data table notebook</a>'\n",
              "            + ' to learn more about interactive tables.';\n",
              "          element.innerHTML = '';\n",
              "          dataTable['output_type'] = 'display_data';\n",
              "          await google.colab.output.renderOutput(dataTable, element);\n",
              "          const docLink = document.createElement('div');\n",
              "          docLink.innerHTML = docLinkHtml;\n",
              "          element.appendChild(docLink);\n",
              "        }\n",
              "      </script>\n",
              "    </div>\n",
              "  </div>\n",
              "  "
            ]
          },
          "metadata": {},
          "execution_count": 16
        }
      ]
    },
    {
      "cell_type": "code",
      "source": [
        "import nltk\n",
        "nltk.download(\"stopwords\")\n",
        "\n",
        "from nltk.corpus import stopwords\n",
        "\n"
      ],
      "metadata": {
        "colab": {
          "base_uri": "https://localhost:8080/"
        },
        "id": "hVjOjUZxoWrF",
        "outputId": "27aa281a-fe04-4ffe-fd99-2e2929018eea"
      },
      "execution_count": 17,
      "outputs": [
        {
          "output_type": "stream",
          "name": "stderr",
          "text": [
            "[nltk_data] Downloading package stopwords to /root/nltk_data...\n",
            "[nltk_data]   Unzipping corpora/stopwords.zip.\n"
          ]
        }
      ]
    },
    {
      "cell_type": "code",
      "source": [
        "def remove_stopwords(sentence):\n",
        "    stop_words = set(stopwords.words('english'))\n",
        "    words = sentence.split()\n",
        "    filtered_words = [word for word in words if word.lower() not in stop_words]\n",
        "    return ' '.join(filtered_words)\n",
        "\n",
        "df['description'] = df['description'].apply(remove_stopwords)"
      ],
      "metadata": {
        "id": "c4o4Z2iI4Up2",
        "colab": {
          "base_uri": "https://localhost:8080/"
        },
        "outputId": "04a2ba14-925e-4980-8444-1ce149ff2cfc"
      },
      "execution_count": 18,
      "outputs": [
        {
          "output_type": "stream",
          "name": "stderr",
          "text": [
            "<ipython-input-18-a81f55ef4123>:7: SettingWithCopyWarning: \n",
            "A value is trying to be set on a copy of a slice from a DataFrame.\n",
            "Try using .loc[row_indexer,col_indexer] = value instead\n",
            "\n",
            "See the caveats in the documentation: https://pandas.pydata.org/pandas-docs/stable/user_guide/indexing.html#returning-a-view-versus-a-copy\n",
            "  df['description'] = df['description'].apply(remove_stopwords)\n"
          ]
        }
      ]
    },
    {
      "cell_type": "code",
      "source": [
        "df"
      ],
      "metadata": {
        "colab": {
          "base_uri": "https://localhost:8080/",
          "height": 423
        },
        "id": "i31eVDYF4dAs",
        "outputId": "433a92de-2246-4af7-f606-d272b6a0f8ba"
      },
      "execution_count": 19,
      "outputs": [
        {
          "output_type": "execute_result",
          "data": {
            "text/plain": [
              "                                             description  \\\n",
              "0      spaceluxurious new apt 1 bdrm pool gym spa 24 ...   \n",
              "1      beautiful cozy apartment excellent location pa...   \n",
              "2      apartment upscale brand new building building ...   \n",
              "3      spacethis single room shared bathroom comforta...   \n",
              "4      spacei offer room apartment located olivos dis...   \n",
              "...                                                  ...   \n",
              "20080       relajate en este alojamiento único tranquilo   \n",
              "20081  inmejorable zona palier privado hermoso depart...   \n",
              "20082  disfrutá de la sencillez de este alojamiento t...   \n",
              "20083  hermoso depto de un dormitorio en belgrano ide...   \n",
              "20084  departamento en semipiso edificio de 5 pisos a...   \n",
              "\n",
              "                                               name  \n",
              "0                amazing luxurious apt palermo soho  \n",
              "1      relax in happy house   palermo  buenos aires  \n",
              "2             amazing view   great studio   balcony  \n",
              "3                       single room in palermo soho  \n",
              "4                             room with river sight  \n",
              "...                                             ...  \n",
              "20080               hermoso departamento en cañitas  \n",
              "20081                     departamento de categoría  \n",
              "20082                loft  parrilla y terraza en ba  \n",
              "20083                 dpto un dormitorio con balcón  \n",
              "20084                 departamento recoleta amplio   \n",
              "\n",
              "[19564 rows x 2 columns]"
            ],
            "text/html": [
              "\n",
              "  <div id=\"df-02403df0-d8fe-474f-a6dd-298458c0c5a6\">\n",
              "    <div class=\"colab-df-container\">\n",
              "      <div>\n",
              "<style scoped>\n",
              "    .dataframe tbody tr th:only-of-type {\n",
              "        vertical-align: middle;\n",
              "    }\n",
              "\n",
              "    .dataframe tbody tr th {\n",
              "        vertical-align: top;\n",
              "    }\n",
              "\n",
              "    .dataframe thead th {\n",
              "        text-align: right;\n",
              "    }\n",
              "</style>\n",
              "<table border=\"1\" class=\"dataframe\">\n",
              "  <thead>\n",
              "    <tr style=\"text-align: right;\">\n",
              "      <th></th>\n",
              "      <th>description</th>\n",
              "      <th>name</th>\n",
              "    </tr>\n",
              "  </thead>\n",
              "  <tbody>\n",
              "    <tr>\n",
              "      <th>0</th>\n",
              "      <td>spaceluxurious new apt 1 bdrm pool gym spa 24 ...</td>\n",
              "      <td>amazing luxurious apt palermo soho</td>\n",
              "    </tr>\n",
              "    <tr>\n",
              "      <th>1</th>\n",
              "      <td>beautiful cozy apartment excellent location pa...</td>\n",
              "      <td>relax in happy house   palermo  buenos aires</td>\n",
              "    </tr>\n",
              "    <tr>\n",
              "      <th>2</th>\n",
              "      <td>apartment upscale brand new building building ...</td>\n",
              "      <td>amazing view   great studio   balcony</td>\n",
              "    </tr>\n",
              "    <tr>\n",
              "      <th>3</th>\n",
              "      <td>spacethis single room shared bathroom comforta...</td>\n",
              "      <td>single room in palermo soho</td>\n",
              "    </tr>\n",
              "    <tr>\n",
              "      <th>4</th>\n",
              "      <td>spacei offer room apartment located olivos dis...</td>\n",
              "      <td>room with river sight</td>\n",
              "    </tr>\n",
              "    <tr>\n",
              "      <th>...</th>\n",
              "      <td>...</td>\n",
              "      <td>...</td>\n",
              "    </tr>\n",
              "    <tr>\n",
              "      <th>20080</th>\n",
              "      <td>relajate en este alojamiento único tranquilo</td>\n",
              "      <td>hermoso departamento en cañitas</td>\n",
              "    </tr>\n",
              "    <tr>\n",
              "      <th>20081</th>\n",
              "      <td>inmejorable zona palier privado hermoso depart...</td>\n",
              "      <td>departamento de categoría</td>\n",
              "    </tr>\n",
              "    <tr>\n",
              "      <th>20082</th>\n",
              "      <td>disfrutá de la sencillez de este alojamiento t...</td>\n",
              "      <td>loft  parrilla y terraza en ba</td>\n",
              "    </tr>\n",
              "    <tr>\n",
              "      <th>20083</th>\n",
              "      <td>hermoso depto de un dormitorio en belgrano ide...</td>\n",
              "      <td>dpto un dormitorio con balcón</td>\n",
              "    </tr>\n",
              "    <tr>\n",
              "      <th>20084</th>\n",
              "      <td>departamento en semipiso edificio de 5 pisos a...</td>\n",
              "      <td>departamento recoleta amplio</td>\n",
              "    </tr>\n",
              "  </tbody>\n",
              "</table>\n",
              "<p>19564 rows × 2 columns</p>\n",
              "</div>\n",
              "      <button class=\"colab-df-convert\" onclick=\"convertToInteractive('df-02403df0-d8fe-474f-a6dd-298458c0c5a6')\"\n",
              "              title=\"Convert this dataframe to an interactive table.\"\n",
              "              style=\"display:none;\">\n",
              "        \n",
              "  <svg xmlns=\"http://www.w3.org/2000/svg\" height=\"24px\"viewBox=\"0 0 24 24\"\n",
              "       width=\"24px\">\n",
              "    <path d=\"M0 0h24v24H0V0z\" fill=\"none\"/>\n",
              "    <path d=\"M18.56 5.44l.94 2.06.94-2.06 2.06-.94-2.06-.94-.94-2.06-.94 2.06-2.06.94zm-11 1L8.5 8.5l.94-2.06 2.06-.94-2.06-.94L8.5 2.5l-.94 2.06-2.06.94zm10 10l.94 2.06.94-2.06 2.06-.94-2.06-.94-.94-2.06-.94 2.06-2.06.94z\"/><path d=\"M17.41 7.96l-1.37-1.37c-.4-.4-.92-.59-1.43-.59-.52 0-1.04.2-1.43.59L10.3 9.45l-7.72 7.72c-.78.78-.78 2.05 0 2.83L4 21.41c.39.39.9.59 1.41.59.51 0 1.02-.2 1.41-.59l7.78-7.78 2.81-2.81c.8-.78.8-2.07 0-2.86zM5.41 20L4 18.59l7.72-7.72 1.47 1.35L5.41 20z\"/>\n",
              "  </svg>\n",
              "      </button>\n",
              "      \n",
              "  <style>\n",
              "    .colab-df-container {\n",
              "      display:flex;\n",
              "      flex-wrap:wrap;\n",
              "      gap: 12px;\n",
              "    }\n",
              "\n",
              "    .colab-df-convert {\n",
              "      background-color: #E8F0FE;\n",
              "      border: none;\n",
              "      border-radius: 50%;\n",
              "      cursor: pointer;\n",
              "      display: none;\n",
              "      fill: #1967D2;\n",
              "      height: 32px;\n",
              "      padding: 0 0 0 0;\n",
              "      width: 32px;\n",
              "    }\n",
              "\n",
              "    .colab-df-convert:hover {\n",
              "      background-color: #E2EBFA;\n",
              "      box-shadow: 0px 1px 2px rgba(60, 64, 67, 0.3), 0px 1px 3px 1px rgba(60, 64, 67, 0.15);\n",
              "      fill: #174EA6;\n",
              "    }\n",
              "\n",
              "    [theme=dark] .colab-df-convert {\n",
              "      background-color: #3B4455;\n",
              "      fill: #D2E3FC;\n",
              "    }\n",
              "\n",
              "    [theme=dark] .colab-df-convert:hover {\n",
              "      background-color: #434B5C;\n",
              "      box-shadow: 0px 1px 3px 1px rgba(0, 0, 0, 0.15);\n",
              "      filter: drop-shadow(0px 1px 2px rgba(0, 0, 0, 0.3));\n",
              "      fill: #FFFFFF;\n",
              "    }\n",
              "  </style>\n",
              "\n",
              "      <script>\n",
              "        const buttonEl =\n",
              "          document.querySelector('#df-02403df0-d8fe-474f-a6dd-298458c0c5a6 button.colab-df-convert');\n",
              "        buttonEl.style.display =\n",
              "          google.colab.kernel.accessAllowed ? 'block' : 'none';\n",
              "\n",
              "        async function convertToInteractive(key) {\n",
              "          const element = document.querySelector('#df-02403df0-d8fe-474f-a6dd-298458c0c5a6');\n",
              "          const dataTable =\n",
              "            await google.colab.kernel.invokeFunction('convertToInteractive',\n",
              "                                                     [key], {});\n",
              "          if (!dataTable) return;\n",
              "\n",
              "          const docLinkHtml = 'Like what you see? Visit the ' +\n",
              "            '<a target=\"_blank\" href=https://colab.research.google.com/notebooks/data_table.ipynb>data table notebook</a>'\n",
              "            + ' to learn more about interactive tables.';\n",
              "          element.innerHTML = '';\n",
              "          dataTable['output_type'] = 'display_data';\n",
              "          await google.colab.output.renderOutput(dataTable, element);\n",
              "          const docLink = document.createElement('div');\n",
              "          docLink.innerHTML = docLinkHtml;\n",
              "          element.appendChild(docLink);\n",
              "        }\n",
              "      </script>\n",
              "    </div>\n",
              "  </div>\n",
              "  "
            ]
          },
          "metadata": {},
          "execution_count": 19
        }
      ]
    },
    {
      "cell_type": "markdown",
      "source": [
        "DIVIDO EN TESTEO Y ENTRENAMIENTO"
      ],
      "metadata": {
        "id": "38sIwumq45xA"
      }
    },
    {
      "cell_type": "code",
      "source": [
        "# Dividir los datos en conjuntos de entrenamiento y prueba\n",
        "X_train, X_test, y_train, y_test = train_test_split(df['description'], df['name'], test_size=0.2, random_state=42)\n",
        "\n",
        "# Crear un objeto vectorizador TF-IDF\n",
        "tfidf = TfidfVectorizer()\n",
        "\n",
        "# Ajustar el vectorizador a los datos de entrenamiento\n",
        "tfidf.fit(X_train)\n",
        "\n",
        "# Transformar los datos de entrenamiento y prueba en vectores TF-IDF\n",
        "X_train_tfidf = tfidf.transform(X_train)\n",
        "X_test_tfidf = tfidf.transform(X_test)\n",
        "\n",
        "# Entrenar el modelo SVM\n",
        "svm_clf = SVC()\n",
        "svm_clf.fit(X_train_tfidf, y_train)\n",
        "\n",
        "# Evaluar el modelo en los datos de prueba\n",
        "y_pred = svm_clf.predict(X_test_tfidf)\n",
        "accuracy = accuracy_score(y_test, y_pred)\n",
        "print(f\"Accuracy: {accuracy:.2f}\")"
      ],
      "metadata": {
        "id": "RB5Ikj2M4uoZ"
      },
      "execution_count": null,
      "outputs": []
    },
    {
      "cell_type": "code",
      "source": [
        "X_test"
      ],
      "metadata": {
        "id": "Wn0sZnggBuXu"
      },
      "execution_count": null,
      "outputs": []
    },
    {
      "cell_type": "markdown",
      "source": [
        "Realizo una prediccion con el conjunto de datos xtest"
      ],
      "metadata": {
        "id": "ai4gQoxE723z"
      }
    },
    {
      "cell_type": "code",
      "source": [
        "# Evaluar el modelo en los datos de prueba\n",
        "y_pred = svm_clf.predict(X_test_tfidf)\n",
        "accuracy = accuracy_score(y_test, y_pred)\n",
        "precision = precision_score(y_test, y_pred, average='weighted')\n",
        "recall = recall_score(y_test, y_pred, average='weighted')\n",
        "f1 = f1_score(y_test, y_pred, average='weighted')\n",
        "print(f\"Accuracy: {accuracy:.2f}\")\n",
        "print(\"Precision:\", precision)\n",
        "print(\"Recall:\", recall)\n",
        "print(\"F1 score:\", f1)"
      ],
      "metadata": {
        "id": "kjnVt4pb72eH",
        "colab": {
          "base_uri": "https://localhost:8080/"
        },
        "outputId": "3dc2bf65-7f96-47ee-96ec-601ae82f8618"
      },
      "execution_count": null,
      "outputs": [
        {
          "output_type": "stream",
          "name": "stdout",
          "text": [
            "Accuracy: 0.94\n",
            "Precision: 0.9408512490653835\n",
            "Recall: 0.9440470107307103\n",
            "F1 score: 0.9363932942611186\n"
          ]
        }
      ]
    },
    {
      "cell_type": "markdown",
      "source": [
        "Veo el rendimiento"
      ],
      "metadata": {
        "id": "sWtFUF-78HR_"
      }
    },
    {
      "cell_type": "markdown",
      "source": [
        "Guardo el modelo"
      ],
      "metadata": {
        "id": "yd1YA3kgx-f1"
      }
    },
    {
      "cell_type": "code",
      "source": [
        "!pip install joblib\n",
        "import joblib as jb\n",
        "jb.dump(svm_clf, 'svm_clf_room_type2.pkl')"
      ],
      "metadata": {
        "colab": {
          "base_uri": "https://localhost:8080/"
        },
        "id": "HxtOD9yXy55B",
        "outputId": "9ea7ece0-e875-4906-c996-c5571abda984"
      },
      "execution_count": null,
      "outputs": [
        {
          "output_type": "stream",
          "name": "stdout",
          "text": [
            "Looking in indexes: https://pypi.org/simple, https://us-python.pkg.dev/colab-wheels/public/simple/\n",
            "Requirement already satisfied: joblib in /usr/local/lib/python3.9/dist-packages (1.1.1)\n"
          ]
        },
        {
          "output_type": "execute_result",
          "data": {
            "text/plain": [
              "['svm_clf_room_type2.pkl']"
            ]
          },
          "metadata": {},
          "execution_count": 20
        }
      ]
    },
    {
      "cell_type": "markdown",
      "source": [
        "El Error que estoy detallando en este caso se dapara cuando use como instancia de clasificacion \"room_type\". ahora en este momento estoy usando \"name\" considero que es mejor pero lleva horas entrenando. en cuanto tenga el modelo y la clasificacion lo subo.\n",
        "\n",
        "Hice una interfaz grafica con TKINTER, esta es simple , y al parecer funciona perfectamente. El problema se da cuando llamo el modelo para precedir un resultado(que probablemente este mal que no hice una interfaz capaz de responder adecuadamente, solo queria probra obtener una respuesta deacurdo a la clasificacion del modelo, luego de ello buscaria mejorar la respuesta de acuerdo a la clasificacion, ya buscando en la base de datos o dataset)\n",
        "\n",
        "el error que obtengo es: \n",
        "\n",
        "  File \"C:\\Users\\enzol\\AppData\\Local\\Programs\\Python\\Python310\\lib\\tkinter\\__init__.py\", line 1921, in __call__\n",
        "    return self.func(*args)\n",
        "  File \"c:\\Users\\enzol\\OneDrive\\Escritorio\\IAchat\\appy.py\", line 50, in responder\n",
        "    categoria = clasificar_mensaje(mensaje)\n",
        "  File \"c:\\Users\\enzol\\OneDrive\\Escritorio\\IAchat\\appy.py\", line 40, in clasificar_mensaje\n",
        "    mensaje_vectorizado = tfidf.transform([mensaje_procesado])\n",
        "  File \"C:\\Users\\enzol\\AppData\\Local\\Programs\\Python\\Python310\\lib\\site-packages\\sklearn\\feature_extraction\\text.py\", line 2155, in transform\n",
        "    check_is_fitted(self, msg=\"The TF-IDF vectorizer is not fitted\")\n",
        "  File \"C:\\Users\\enzol\\AppData\\Local\\Programs\\Python\\Python310\\lib\\site-packages\\sklearn\\utils\\validation.py\", line 1390, in check_is_fitted\n",
        "    raise NotFittedError(msg % {\"name\": type(estimator).__name__})\n",
        "sklearn.exceptions.NotFittedError: The TF-IDF vectorizer is not fitted\n",
        "\n",
        "\n",
        "\n",
        "probé modificando algunas cosas en el modelo, tambien vectorice y trabaje el dato de entrada(osea la consulta) de forma que considero adecuada y obtuve errores como \" estas tratando de transformar un objeto string a float\""
      ],
      "metadata": {
        "id": "ksmdlnnfeEp7"
      }
    },
    {
      "cell_type": "markdown",
      "source": [
        "en este caso el codigo de la interfaz:\n",
        "from tkinter import scrolledtext, INSERT\n",
        "from sklearn.feature_extraction.text import TfidfVectorizer\n",
        "from tkinter import ttk\n",
        "\n",
        "import joblib as jb\n",
        "\n",
        "\n",
        "\n",
        "\n",
        "import tkinter as tk\n",
        "import nltk\n",
        "nltk.download('stopwords')\n",
        "from nltk.corpus import stopwords\n",
        "import string\n",
        "import re\n",
        "\n",
        "# Cargar el modelo SVM previamente entrenado para la clasificación de room_type\n",
        "svm_clf_room_type = jb.load('C:/Users/enzol/OneDrive/Escritorio/IAchat/svm_clf_room_type2.pkl')\n",
        "\n",
        "stop_words = set(stopwords.words('english'))\n",
        "tfidf = TfidfVectorizer()\n",
        "\n",
        "def preprocess_text(text):\n",
        "    # Convertir a minúsculas\n",
        "    text = text.lower()\n",
        "    # Quitar puntuación\n",
        "    text = text.translate(str.maketrans('', '', string.punctuation))\n",
        "    # Quitar números\n",
        "    text = re.sub('\\d+', '', text)\n",
        "    # Quitar palabras vacías\n",
        "    text = ' '.join([word for word in text.split() if word not in stop_words])\n",
        "    return text\n",
        "\n",
        "# Definir la función para clasificar el mensaje de entrada\n",
        "def clasificar_mensaje(mensaje):\n",
        "    # Aplicar preprocesamiento al mensaje de entrada\n",
        "    mensaje_procesado = preprocess_text(mensaje)\n",
        "    # Vectorizar el mensaje de entrada\n",
        "    mensaje_vectorizado = tfidf.transform([mensaje_procesado])\n",
        "    # Clasificar el mensaje utilizando el modelo SVM\n",
        "    prediccion = svm_clf_room_type.predict(mensaje_vectorizado)\n",
        "    # Devolver la categoría predicha\n",
        "    return prediccion[0]\n",
        "\n",
        "def responder():\n",
        "    # Obtener el mensaje de entrada del usuario\n",
        "    mensaje = entrada_texto.get()\n",
        "    # Clasificar el mensaje utilizando el modelo SVM\n",
        "    categoria = clasificar_mensaje(mensaje)\n",
        "    # Devolver la respuesta correspondiente a la categoría predicha\n",
        "    if categoria == 'pregunta':\n",
        "        respuesta_texto.set('¿En qué puedo ayudarte?')\n",
        "    elif categoria == 'comentario_positivo':\n",
        "        respuesta_texto.set('¡Gracias por tus comentarios!')\n",
        "    elif categoria == 'comentario_negativo':\n",
        "        respuesta_texto.set('Lamentamos que no hayas tenido una buena experiencia. ¿Podrías proporcionar más detalles?')\n",
        "    else:\n",
        "        respuesta_texto.set('Lo siento, no entiendo tu pregunta. Por favor, inténtalo de nuevo.')"
      ],
      "metadata": {
        "id": "xEav3fU1fFAB"
      }
    }
  ]
}