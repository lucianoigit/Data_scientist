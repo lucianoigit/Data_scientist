{
  "nbformat": 4,
  "nbformat_minor": 0,
  "metadata": {
    "colab": {
      "provenance": [],
      "authorship_tag": "ABX9TyOm0TMnR4hJb2ebJ8xuLVkE",
      "include_colab_link": true
    },
    "kernelspec": {
      "name": "python3",
      "display_name": "Python 3"
    },
    "language_info": {
      "name": "python"
    }
  },
  "cells": [
    {
      "cell_type": "markdown",
      "metadata": {
        "id": "view-in-github",
        "colab_type": "text"
      },
      "source": [
        "<a href=\"https://colab.research.google.com/github/lucianoigit/Data_scientist/blob/main/SVM_Regresor_Ascombe.ipynb\" target=\"_parent\"><img src=\"https://colab.research.google.com/assets/colab-badge.svg\" alt=\"Open In Colab\"/></a>"
      ]
    },
    {
      "cell_type": "code",
      "execution_count": 4,
      "metadata": {
        "id": "bk2YROQtYXBp"
      },
      "outputs": [],
      "source": [
        "import numpy as np\n",
        "import pandas as pd\n",
        "import matplotlib.pyplot as plt\n",
        "import seaborn as sns\n",
        "import warnings\n",
        "from sklearn.svm import SVR\n",
        "from sklearn.preprocessing import StandardScaler\n",
        "\n",
        "warnings.filterwarnings(\"ignore\")\n"
      ]
    },
    {
      "cell_type": "code",
      "source": [
        "data=sns.load_dataset(\"anscombe\")"
      ],
      "metadata": {
        "id": "oFaKfvPGa9XM"
      },
      "execution_count": 6,
      "outputs": []
    },
    {
      "cell_type": "code",
      "source": [
        "print(data.shape)\n",
        "print(data.head(10))\n",
        "print(data.columns)\n",
        "print(data.tail())"
      ],
      "metadata": {
        "colab": {
          "base_uri": "https://localhost:8080/"
        },
        "id": "ds9affbXa9Zs",
        "outputId": "ae29f7f6-3921-4cc8-989a-197d7eae26ad"
      },
      "execution_count": 7,
      "outputs": [
        {
          "output_type": "stream",
          "name": "stdout",
          "text": [
            "(44, 3)\n",
            "  dataset     x      y\n",
            "0       I  10.0   8.04\n",
            "1       I   8.0   6.95\n",
            "2       I  13.0   7.58\n",
            "3       I   9.0   8.81\n",
            "4       I  11.0   8.33\n",
            "5       I  14.0   9.96\n",
            "6       I   6.0   7.24\n",
            "7       I   4.0   4.26\n",
            "8       I  12.0  10.84\n",
            "9       I   7.0   4.82\n",
            "Index(['dataset', 'x', 'y'], dtype='object')\n",
            "   dataset     x      y\n",
            "39      IV   8.0   5.25\n",
            "40      IV  19.0  12.50\n",
            "41      IV   8.0   5.56\n",
            "42      IV   8.0   7.91\n",
            "43      IV   8.0   6.89\n"
          ]
        }
      ]
    },
    {
      "cell_type": "code",
      "source": [
        "data.info()"
      ],
      "metadata": {
        "colab": {
          "base_uri": "https://localhost:8080/"
        },
        "id": "LZ7JZ7zhcKeg",
        "outputId": "d3008335-0c8c-4caa-d5af-cabec6defacb"
      },
      "execution_count": 8,
      "outputs": [
        {
          "output_type": "stream",
          "name": "stdout",
          "text": [
            "<class 'pandas.core.frame.DataFrame'>\n",
            "RangeIndex: 44 entries, 0 to 43\n",
            "Data columns (total 3 columns):\n",
            " #   Column   Non-Null Count  Dtype  \n",
            "---  ------   --------------  -----  \n",
            " 0   dataset  44 non-null     object \n",
            " 1   x        44 non-null     float64\n",
            " 2   y        44 non-null     float64\n",
            "dtypes: float64(2), object(1)\n",
            "memory usage: 1.2+ KB\n"
          ]
        }
      ]
    },
    {
      "cell_type": "code",
      "source": [
        "sns.lmplot(\n",
        "    data=data, x=\"x\",y=\"y\",col=\"dataset\",hue=\"dataset\",\n",
        "    col_wrap=2,palette=\"muted\",ci=None,\n",
        "    height=4,scatter_kws={\"s\":50,\"alpha\":1}\n",
        ")"
      ],
      "metadata": {
        "colab": {
          "base_uri": "https://localhost:8080/",
          "height": 603
        },
        "id": "l0HDSZy1cKkk",
        "outputId": "553c767e-5ac1-43af-e6a9-a927a714ea07"
      },
      "execution_count": 10,
      "outputs": [
        {
          "output_type": "execute_result",
          "data": {
            "text/plain": [
              "<seaborn.axisgrid.FacetGrid at 0x7f510d812a00>"
            ]
          },
          "metadata": {},
          "execution_count": 10
        },
        {
          "output_type": "display_data",
          "data": {
            "text/plain": [
              "<Figure size 576x576 with 4 Axes>"
            ],
            "image/png": "[encoded data removed]"
          },
          "metadata": {
            "needs_background": "light"
          }
        }
      ]
    },
    {
      "cell_type": "code",
      "source": [
        "# Separo el dataset 2 para trabajarlo\n",
        "data2=data[data.dataset==\"II\"]\n",
        "data2"
      ],
      "metadata": {
        "colab": {
          "base_uri": "https://localhost:8080/",
          "height": 394
        },
        "id": "4EbcnbjJcKqt",
        "outputId": "57eff744-dd46-4ca6-d133-046769e11438"
      },
      "execution_count": 12,
      "outputs": [
        {
          "output_type": "execute_result",
          "data": {
            "text/plain": [
              "   dataset     x     y\n",
              "11      II  10.0  9.14\n",
              "12      II   8.0  8.14\n",
              "13      II  13.0  8.74\n",
              "14      II   9.0  8.77\n",
              "15      II  11.0  9.26\n",
              "16      II  14.0  8.10\n",
              "17      II   6.0  6.13\n",
              "18      II   4.0  3.10\n",
              "19      II  12.0  9.13\n",
              "20      II   7.0  7.26\n",
              "21      II   5.0  4.74"
            ],
            "text/html": [
              "\n",
              "  <div id=\"df-b98f3e04-cd43-4f18-ac2f-2a6d84eaf6bb\">\n",
              "    <div class=\"colab-df-container\">\n",
              "      <div>\n",
              "<style scoped>\n",
              "    .dataframe tbody tr th:only-of-type {\n",
              "        vertical-align: middle;\n",
              "    }\n",
              "\n",
              "    .dataframe tbody tr th {\n",
              "        vertical-align: top;\n",
              "    }\n",
              "\n",
              "    .dataframe thead th {\n",
              "        text-align: right;\n",
              "    }\n",
              "</style>\n",
              "<table border=\"1\" class=\"dataframe\">\n",
              "  <thead>\n",
              "    <tr style=\"text-align: right;\">\n",
              "      <th></th>\n",
              "      <th>dataset</th>\n",
              "      <th>x</th>\n",
              "      <th>y</th>\n",
              "    </tr>\n",
              "  </thead>\n",
              "  <tbody>\n",
              "    <tr>\n",
              "      <th>11</th>\n",
              "      <td>II</td>\n",
              "      <td>10.0</td>\n",
              "      <td>9.14</td>\n",
              "    </tr>\n",
              "    <tr>\n",
              "      <th>12</th>\n",
              "      <td>II</td>\n",
              "      <td>8.0</td>\n",
              "      <td>8.14</td>\n",
              "    </tr>\n",
              "    <tr>\n",
              "      <th>13</th>\n",
              "      <td>II</td>\n",
              "      <td>13.0</td>\n",
              "      <td>8.74</td>\n",
              "    </tr>\n",
              "    <tr>\n",
              "      <th>14</th>\n",
              "      <td>II</td>\n",
              "      <td>9.0</td>\n",
              "      <td>8.77</td>\n",
              "    </tr>\n",
              "    <tr>\n",
              "      <th>15</th>\n",
              "      <td>II</td>\n",
              "      <td>11.0</td>\n",
              "      <td>9.26</td>\n",
              "    </tr>\n",
              "    <tr>\n",
              "      <th>16</th>\n",
              "      <td>II</td>\n",
              "      <td>14.0</td>\n",
              "      <td>8.10</td>\n",
              "    </tr>\n",
              "    <tr>\n",
              "      <th>17</th>\n",
              "      <td>II</td>\n",
              "      <td>6.0</td>\n",
              "      <td>6.13</td>\n",
              "    </tr>\n",
              "    <tr>\n",
              "      <th>18</th>\n",
              "      <td>II</td>\n",
              "      <td>4.0</td>\n",
              "      <td>3.10</td>\n",
              "    </tr>\n",
              "    <tr>\n",
              "      <th>19</th>\n",
              "      <td>II</td>\n",
              "      <td>12.0</td>\n",
              "      <td>9.13</td>\n",
              "    </tr>\n",
              "    <tr>\n",
              "      <th>20</th>\n",
              "      <td>II</td>\n",
              "      <td>7.0</td>\n",
              "      <td>7.26</td>\n",
              "    </tr>\n",
              "    <tr>\n",
              "      <th>21</th>\n",
              "      <td>II</td>\n",
              "      <td>5.0</td>\n",
              "      <td>4.74</td>\n",
              "    </tr>\n",
              "  </tbody>\n",
              "</table>\n",
              "</div>\n",
              "      <button class=\"colab-df-convert\" onclick=\"convertToInteractive('df-b98f3e04-cd43-4f18-ac2f-2a6d84eaf6bb')\"\n",
              "              title=\"Convert this dataframe to an interactive table.\"\n",
              "              style=\"display:none;\">\n",
              "        \n",
              "  <svg xmlns=\"http://www.w3.org/2000/svg\" height=\"24px\"viewBox=\"0 0 24 24\"\n",
              "       width=\"24px\">\n",
              "    <path d=\"M0 0h24v24H0V0z\" fill=\"none\"/>\n",
              "    <path d=\"M18.56 5.44l.94 2.06.94-2.06 2.06-.94-2.06-.94-.94-2.06-.94 2.06-2.06.94zm-11 1L8.5 8.5l.94-2.06 2.06-.94-2.06-.94L8.5 2.5l-.94 2.06-2.06.94zm10 10l.94 2.06.94-2.06 2.06-.94-2.06-.94-.94-2.06-.94 2.06-2.06.94z\"/><path d=\"M17.41 7.96l-1.37-1.37c-.4-.4-.92-.59-1.43-.59-.52 0-1.04.2-1.43.59L10.3 9.45l-7.72 7.72c-.78.78-.78 2.05 0 2.83L4 21.41c.39.39.9.59 1.41.59.51 0 1.02-.2 1.41-.59l7.78-7.78 2.81-2.81c.8-.78.8-2.07 0-2.86zM5.41 20L4 18.59l7.72-7.72 1.47 1.35L5.41 20z\"/>\n",
              "  </svg>\n",
              "      </button>\n",
              "      \n",
              "  <style>\n",
              "    .colab-df-container {\n",
              "      display:flex;\n",
              "      flex-wrap:wrap;\n",
              "      gap: 12px;\n",
              "    }\n",
              "\n",
              "    .colab-df-convert {\n",
              "      background-color: #E8F0FE;\n",
              "      border: none;\n",
              "      border-radius: 50%;\n",
              "      cursor: pointer;\n",
              "      display: none;\n",
              "      fill: #1967D2;\n",
              "      height: 32px;\n",
              "      padding: 0 0 0 0;\n",
              "      width: 32px;\n",
              "    }\n",
              "\n",
              "    .colab-df-convert:hover {\n",
              "      background-color: #E2EBFA;\n",
              "      box-shadow: 0px 1px 2px rgba(60, 64, 67, 0.3), 0px 1px 3px 1px rgba(60, 64, 67, 0.15);\n",
              "      fill: #174EA6;\n",
              "    }\n",
              "\n",
              "    [theme=dark] .colab-df-convert {\n",
              "      background-color: #3B4455;\n",
              "      fill: #D2E3FC;\n",
              "    }\n",
              "\n",
              "    [theme=dark] .colab-df-convert:hover {\n",
              "      background-color: #434B5C;\n",
              "      box-shadow: 0px 1px 3px 1px rgba(0, 0, 0, 0.15);\n",
              "      filter: drop-shadow(0px 1px 2px rgba(0, 0, 0, 0.3));\n",
              "      fill: #FFFFFF;\n",
              "    }\n",
              "  </style>\n",
              "\n",
              "      <script>\n",
              "        const buttonEl =\n",
              "          document.querySelector('#df-b98f3e04-cd43-4f18-ac2f-2a6d84eaf6bb button.colab-df-convert');\n",
              "        buttonEl.style.display =\n",
              "          google.colab.kernel.accessAllowed ? 'block' : 'none';\n",
              "\n",
              "        async function convertToInteractive(key) {\n",
              "          const element = document.querySelector('#df-b98f3e04-cd43-4f18-ac2f-2a6d84eaf6bb');\n",
              "          const dataTable =\n",
              "            await google.colab.kernel.invokeFunction('convertToInteractive',\n",
              "                                                     [key], {});\n",
              "          if (!dataTable) return;\n",
              "\n",
              "          const docLinkHtml = 'Like what you see? Visit the ' +\n",
              "            '<a target=\"_blank\" href=https://colab.research.google.com/notebooks/data_table.ipynb>data table notebook</a>'\n",
              "            + ' to learn more about interactive tables.';\n",
              "          element.innerHTML = '';\n",
              "          dataTable['output_type'] = 'display_data';\n",
              "          await google.colab.output.renderOutput(dataTable, element);\n",
              "          const docLink = document.createElement('div');\n",
              "          docLink.innerHTML = docLinkHtml;\n",
              "          element.appendChild(docLink);\n",
              "        }\n",
              "      </script>\n",
              "    </div>\n",
              "  </div>\n",
              "  "
            ]
          },
          "metadata": {},
          "execution_count": 12
        }
      ]
    },
    {
      "cell_type": "code",
      "source": [
        "fig=plt.figure(figsize=(8,6))\n",
        "plt.scatter(data2.x,data2.y,color=\"magenta\",alpha=0.5)\n",
        "plt.xlabel(\"x\")\n",
        "plt.ylabel(\"y\")\n",
        "plt.show()\n",
        "plt.close()"
      ],
      "metadata": {
        "colab": {
          "base_uri": "https://localhost:8080/",
          "height": 388
        },
        "id": "OsID65rIcLoN",
        "outputId": "c67837ac-4a94-48e3-cb79-96578ee58464"
      },
      "execution_count": 26,
      "outputs": [
        {
          "output_type": "display_data",
          "data": {
            "text/plain": [
              "<Figure size 576x432 with 1 Axes>"
            ],
            "image/png": "[encoded data removed]"
          },
          "metadata": {
            "needs_background": "light"
          }
        }
      ]
    },
    {
      "cell_type": "code",
      "source": [
        "# Defino las variables predictoras(y) e independiente (x)\n",
        "y=data2.pop(\"y\") # separo  la columna y\n",
        "y\n"
      ],
      "metadata": {
        "colab": {
          "base_uri": "https://localhost:8080/"
        },
        "id": "m4ajf46Am1I_",
        "outputId": "9994cc10-e342-4ec4-c880-57d8a600207a"
      },
      "execution_count": 27,
      "outputs": [
        {
          "output_type": "execute_result",
          "data": {
            "text/plain": [
              "11    9.14\n",
              "12    8.14\n",
              "13    8.74\n",
              "14    8.77\n",
              "15    9.26\n",
              "16    8.10\n",
              "17    6.13\n",
              "18    3.10\n",
              "19    9.13\n",
              "20    7.26\n",
              "21    4.74\n",
              "Name: y, dtype: float64"
            ]
          },
          "metadata": {},
          "execution_count": 27
        }
      ]
    },
    {
      "cell_type": "code",
      "source": [
        "# Estandarizo las caracteristicas\n",
        "x_train=data2.x.to_frame() # leo como dataframe\n",
        "sc_x=StandardScaler()\n",
        "sc_y=StandardScaler()\n",
        "x=sc_x.fit_transform(x_train)\n",
        "y=sc_y.fit_transform(y.values.reshape(-1,1))  # uso values.shape por que \"y\"es una serie\n",
        "print(x.shape)\n",
        "print(y.shape)"
      ],
      "metadata": {
        "colab": {
          "base_uri": "https://localhost:8080/"
        },
        "id": "i8kKiw7em1Q0",
        "outputId": "dd0297cd-cebc-4c21-dfd1-df0845dbf3d0"
      },
      "execution_count": 29,
      "outputs": [
        {
          "output_type": "stream",
          "name": "stdout",
          "text": [
            "(11, 1)\n",
            "(11, 1)\n"
          ]
        }
      ]
    },
    {
      "cell_type": "code",
      "source": [
        "print(x)\n",
        "\n"
      ],
      "metadata": {
        "colab": {
          "base_uri": "https://localhost:8080/"
        },
        "id": "G_BekLU7p9Xq",
        "outputId": "e9ede6c3-942b-400e-d821-e9b940b71f8a"
      },
      "execution_count": 34,
      "outputs": [
        {
          "output_type": "stream",
          "name": "stdout",
          "text": [
            "[[ 0.31622777]\n",
            " [-0.31622777]\n",
            " [ 1.26491106]\n",
            " [ 0.        ]\n",
            " [ 0.63245553]\n",
            " [ 1.58113883]\n",
            " [-0.9486833 ]\n",
            " [-1.58113883]\n",
            " [ 0.9486833 ]\n",
            " [-0.63245553]\n",
            " [-1.26491106]]\n"
          ]
        }
      ]
    },
    {
      "cell_type": "code",
      "source": [
        "# Hago trabajar el modelo con kernel linear\n",
        "sv=SVR(kernel=\"linear\")\n",
        "# Entreno\n",
        "sv.fit(x,y)\n",
        "\n",
        "# el resultado es una recta, NO ES EFICIENTE EN ESTE CASO"
      ],
      "metadata": {
        "colab": {
          "base_uri": "https://localhost:8080/"
        },
        "id": "GcoL0_6gp9fs",
        "outputId": "919dc95d-9078-4d4b-adf7-340f517467c9"
      },
      "execution_count": 35,
      "outputs": [
        {
          "output_type": "execute_result",
          "data": {
            "text/plain": [
              "SVR(kernel='linear')"
            ]
          },
          "metadata": {},
          "execution_count": 35
        }
      ]
    },
    {
      "cell_type": "code",
      "source": [
        "# Realizo una predicción y grafico\n",
        "x_nuevo=pd.DataFrame([[4.5],[5.5],[6.5],[7.5],[8.3],[9.5],[10.6],[12.4]])\n",
        "xt=sc_x.transform(x_nuevo) # no uso fittransform por que uso los valores ya entrenados \n",
        "y_pred=sv.predict(xt).reshape(-1,1) # realizo la  prediccion y convierto en un df\n",
        "print(xt)\n",
        "print(y_pred)\n",
        "\n"
      ],
      "metadata": {
        "colab": {
          "base_uri": "https://localhost:8080/"
        },
        "id": "TQZV0la7raPe",
        "outputId": "6fffa034-ffc6-4eb6-b114-f8cf65e80d85"
      },
      "execution_count": 43,
      "outputs": [
        {
          "output_type": "stream",
          "name": "stdout",
          "text": [
            "[[-1.42302495]\n",
            " [-1.10679718]\n",
            " [-0.79056942]\n",
            " [-0.47434165]\n",
            " [-0.22135944]\n",
            " [ 0.15811388]\n",
            " [ 0.50596443]\n",
            " [ 1.0751744 ]]\n",
            "[[-0.99488392]\n",
            " [-0.73676726]\n",
            " [-0.47865061]\n",
            " [-0.22053396]\n",
            " [-0.01404063]\n",
            " [ 0.29569935]\n",
            " [ 0.57962767]\n",
            " [ 1.04423765]]\n"
          ]
        }
      ]
    },
    {
      "cell_type": "code",
      "source": [
        "x_vect=np.arange(4.,15.,0.01) # vector de numpy, No de pandas\n",
        "x_graf=x_vect.reshape(len(x_vect),1) # ahora es un df de 1 columna\n",
        "xg=sc_x.transform(x_graf)\n",
        "# Armo el grafico\n",
        "plt.figure(dpi=150) # abro la figura\n",
        "plt.scatter(x,y,c=\"magenta\")\n",
        "plt.plot(xg,sv.predict(xg),color=\"lime\")  # id predicción\n",
        "plt.scatter(xt,y_pred,color=\"orange\",marker=\"*\")\n",
        "plt.plot()\n",
        "plt.title(f\"Regresión Máquina de soporte vectorial para Anscombe\")\n",
        "plt.xlabel=\"x\"\n",
        "plt.ylable=\"y\"\n",
        "plt.show()\n",
        "plt.close()\n",
        "\n",
        "print(\" No es una regresion eficiente\")"
      ],
      "metadata": {
        "colab": {
          "base_uri": "https://localhost:8080/",
          "height": 585
        },
        "id": "2RfeQOzSufc1",
        "outputId": "e3dfa1e3-7564-49bd-de78-92cacb13fc07"
      },
      "execution_count": 48,
      "outputs": [
        {
          "output_type": "display_data",
          "data": {
            "text/plain": [
              "<Figure size 900x600 with 1 Axes>"
            ],
            "image/png": "[encoded data removed]"
          },
          "metadata": {
            "needs_background": "light"
          }
        },
        {
          "output_type": "stream",
          "name": "stdout",
          "text": [
            " No es una regresion eficiente\n"
          ]
        }
      ]
    },
    {
      "cell_type": "code",
      "source": [
        "# Veo el score\n",
        "print(\"\\n\")\n",
        "print(f\"Presición:{sv.score(x,y)}\")"
      ],
      "metadata": {
        "colab": {
          "base_uri": "https://localhost:8080/"
        },
        "id": "qESNlfHqufnS",
        "outputId": "a0f5df18-3b74-4278-e41d-702b433a9071"
      },
      "execution_count": 49,
      "outputs": [
        {
          "output_type": "stream",
          "name": "stdout",
          "text": [
            "\n",
            "\n",
            "Presición:0.6384728024535903\n"
          ]
        }
      ]
    },
    {
      "cell_type": "code",
      "source": [
        "# Pruebo con otro kernel\n",
        "sv1=SVR(kernel=\"rbf\",gamma=0.9)\n",
        "#entreno\n",
        "sv1.fit(x,y)"
      ],
      "metadata": {
        "colab": {
          "base_uri": "https://localhost:8080/"
        },
        "id": "CbBrRWGYwud1",
        "outputId": "597165fb-cb82-4100-c897-9a73c01661d1"
      },
      "execution_count": 65,
      "outputs": [
        {
          "output_type": "execute_result",
          "data": {
            "text/plain": [
              "SVR(gamma=0.9)"
            ]
          },
          "metadata": {},
          "execution_count": 65
        }
      ]
    },
    {
      "cell_type": "code",
      "source": [
        "# Realizo nuevamente una predicción y grafico\n",
        "\n",
        "y_pred1=sv1.predict(xt).reshape(-1,1) # realizo la  prediccion y convierto en un df\n",
        "\n",
        "print(y_pred1)"
      ],
      "metadata": {
        "colab": {
          "base_uri": "https://localhost:8080/"
        },
        "id": "A4Rj-Gf7wugk",
        "outputId": "1aa9eb96-04e5-43e4-8878-d2912d8ca03b"
      },
      "execution_count": 66,
      "outputs": [
        {
          "output_type": "stream",
          "name": "stdout",
          "text": [
            "[[-1.49585867]\n",
            " [-1.08816015]\n",
            " [-0.5120162 ]\n",
            " [ 0.03559295]\n",
            " [ 0.36951638]\n",
            " [ 0.67990979]\n",
            " [ 0.80038019]\n",
            " [ 0.68095065]]\n"
          ]
        }
      ]
    },
    {
      "cell_type": "code",
      "source": [
        "# Armo el grafico\n",
        "\n",
        "# Armo el grafico\n",
        "plt.figure(dpi=150) # abro la figura\n",
        "plt.scatter(x,y,c=\"magenta\")\n",
        "plt.plot(xg,sv1.predict(xg),color=\"lime\")  # id predicción\n",
        "plt.scatter(xt,y_pred1,color=\"orange\",marker=\"*\")\n",
        "plt.plot()\n",
        "plt.title(f\"Regresión Máquina de soporte vectorial para Anscombe\")\n",
        "plt.xlabel=\"x\"\n",
        "plt.ylable=\"y\"\n",
        "plt.show()\n",
        "plt.close()"
      ],
      "metadata": {
        "colab": {
          "base_uri": "https://localhost:8080/",
          "height": 567
        },
        "id": "5WgWgGNmyBMc",
        "outputId": "0f3efc4e-b168-41d2-fd92-a1aab387e107"
      },
      "execution_count": 67,
      "outputs": [
        {
          "output_type": "display_data",
          "data": {
            "text/plain": [
              "<Figure size 900x600 with 1 Axes>"
            ],
            "image/png": "[encoded data removed]"
          },
          "metadata": {
            "needs_background": "light"
          }
        }
      ]
    },
    {
      "cell_type": "code",
      "source": [
        "# Veo el score\n",
        "print(\"\\n\")\n",
        "print(f\"Presición:{sv1.score(x,y)}\")"
      ],
      "metadata": {
        "colab": {
          "base_uri": "https://localhost:8080/"
        },
        "id": "oMiit9Q5yruQ",
        "outputId": "fc2494a3-a9fa-4a78-ad8c-bc4e4df14787"
      },
      "execution_count": 68,
      "outputs": [
        {
          "output_type": "stream",
          "name": "stdout",
          "text": [
            "\n",
            "\n",
            "Presición:0.9502195492643883\n"
          ]
        }
      ]
    },
    {
      "cell_type": "code",
      "source": [],
      "metadata": {
        "id": "r70EcfpcyBQM"
      },
      "execution_count": null,
      "outputs": []
    }
  ]
}