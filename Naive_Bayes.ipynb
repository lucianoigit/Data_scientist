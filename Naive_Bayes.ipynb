{
  "nbformat": 4,
  "nbformat_minor": 0,
  "metadata": {
    "colab": {
      "provenance": [],
      "authorship_tag": "ABX9TyNroDmEu/2zdWe9hvoX3WnI",
      "include_colab_link": true
    },
    "kernelspec": {
      "name": "python3",
      "display_name": "Python 3"
    },
    "language_info": {
      "name": "python"
    }
  },
  "cells": [
    {
      "cell_type": "markdown",
      "metadata": {
        "id": "view-in-github",
        "colab_type": "text"
      },
      "source": [
        "<a href=\"https://colab.research.google.com/github/lucianoigit/Data_scientist/blob/main/Naive_Bayes.ipynb\" target=\"_parent\"><img src=\"https://colab.research.google.com/assets/colab-badge.svg\" alt=\"Open In Colab\"/></a>"
      ]
    },
    {
      "cell_type": "code",
      "execution_count": 2,
      "metadata": {
        "colab": {
          "base_uri": "https://localhost:8080/",
          "height": 35
        },
        "id": "qUm_WGODn4LO",
        "outputId": "a8b7f3ee-3c45-4e22-d9f6-3b50201b34ee"
      },
      "outputs": [
        {
          "output_type": "execute_result",
          "data": {
            "text/plain": [
              "'\\nauthor: Luciano Iriarte\\nTopic: Naive Bayes\\nExercise: prediction of possibility of rental or purchase for a person according to their income\\n'"
            ],
            "application/vnd.google.colaboratory.intrinsic+json": {
              "type": "string"
            }
          },
          "metadata": {},
          "execution_count": 2
        }
      ],
      "source": [
        "\"\"\"\n",
        "author: Luciano Iriarte\n",
        "Topic: Naive Bayes\n",
        "Exercise: prediction of possibility of rental or purchase for a person according to their income\n",
        "\"\"\""
      ]
    },
    {
      "cell_type": "code",
      "source": [
        "import pandas as pd\n",
        "import matplotlib.pyplot as plt\n",
        "import seaborn as sns  # Used to graph\n",
        "import numpy as np\n",
        "from sklearn.preprocessing import StandardScaler # Convert variable to a Gaussian distribution\n",
        "from sklearn.model_selection import train_test_split # Separate dataset into training and testing\n",
        "from sklearn.pipeline import make_pipeline # It serves to make a pipeline and have everything in a single calculation flow\n",
        "from sklearn.feature_selection import SelectKBest# It serves to see the importance of the variables\n",
        "from sklearn.metrics import confusion_matrix# used to view ranking results\n",
        "from sklearn.metrics import ConfusionMatrixDisplay\n",
        "from sklearn.naive_bayes import GaussianNB # We use a Gaussian model\n",
        "from google.colab import files\n",
        "import warnings\n",
        "\n",
        "warnings.filterwarnings(\"ignore\")\n",
        "\n"
      ],
      "metadata": {
        "id": "GvuM62cfo6tX"
      },
      "execution_count": 3,
      "outputs": []
    },
    {
      "cell_type": "code",
      "source": [
        "files.upload()"
      ],
      "metadata": {
        "colab": {
          "base_uri": "https://localhost:8080/",
          "height": 128
        },
        "id": "JZsYmynyo67a",
        "outputId": "fd5c7fed-44e6-4d0b-cfe4-1f6568de8614"
      },
      "execution_count": 4,
      "outputs": [
        {
          "output_type": "display_data",
          "data": {
            "text/plain": [
              "<IPython.core.display.HTML object>"
            ],
            "text/html": [
              "\n",
              "     <input type=\"file\" id=\"files-538e39ee-fb92-45d5-abf2-b678e0fdebaf\" name=\"files[]\" multiple disabled\n",
              "        style=\"border:none\" />\n",
              "     <output id=\"result-538e39ee-fb92-45d5-abf2-b678e0fdebaf\">\n",
              "      Upload widget is only available when the cell has been executed in the\n",
              "      current browser session. Please rerun this cell to enable.\n",
              "      </output>\n",
              "      <script>// Copyright 2017 Google LLC\n",
              "//\n",
              "// Licensed under the Apache License, Version 2.0 (the \"License\");\n",
              "// you may not use this file except in compliance with the License.\n",
              "// You may obtain a copy of the License at\n",
              "//\n",
              "//      http://www.apache.org/licenses/LICENSE-2.0\n",
              "//\n",
              "// Unless required by applicable law or agreed to in writing, software\n",
              "// distributed under the License is distributed on an \"AS IS\" BASIS,\n",
              "// WITHOUT WARRANTIES OR CONDITIONS OF ANY KIND, either express or implied.\n",
              "// See the License for the specific language governing permissions and\n",
              "// limitations under the License.\n",
              "\n",
              "/**\n",
              " * @fileoverview Helpers for google.colab Python module.\n",
              " */\n",
              "(function(scope) {\n",
              "function span(text, styleAttributes = {}) {\n",
              "  const element = document.createElement('span');\n",
              "  element.textContent = text;\n",
              "  for (const key of Object.keys(styleAttributes)) {\n",
              "    element.style[key] = styleAttributes[key];\n",
              "  }\n",
              "  return element;\n",
              "}\n",
              "\n",
              "// Max number of bytes which will be uploaded at a time.\n",
              "const MAX_PAYLOAD_SIZE = 100 * 1024;\n",
              "\n",
              "function _uploadFiles(inputId, outputId) {\n",
              "  const steps = uploadFilesStep(inputId, outputId);\n",
              "  const outputElement = document.getElementById(outputId);\n",
              "  // Cache steps on the outputElement to make it available for the next call\n",
              "  // to uploadFilesContinue from Python.\n",
              "  outputElement.steps = steps;\n",
              "\n",
              "  return _uploadFilesContinue(outputId);\n",
              "}\n",
              "\n",
              "// This is roughly an async generator (not supported in the browser yet),\n",
              "// where there are multiple asynchronous steps and the Python side is going\n",
              "// to poll for completion of each step.\n",
              "// This uses a Promise to block the python side on completion of each step,\n",
              "// then passes the result of the previous step as the input to the next step.\n",
              "function _uploadFilesContinue(outputId) {\n",
              "  const outputElement = document.getElementById(outputId);\n",
              "  const steps = outputElement.steps;\n",
              "\n",
              "  const next = steps.next(outputElement.lastPromiseValue);\n",
              "  return Promise.resolve(next.value.promise).then((value) => {\n",
              "    // Cache the last promise value to make it available to the next\n",
              "    // step of the generator.\n",
              "    outputElement.lastPromiseValue = value;\n",
              "    return next.value.response;\n",
              "  });\n",
              "}\n",
              "\n",
              "/**\n",
              " * Generator function which is called between each async step of the upload\n",
              " * process.\n",
              " * @param {string} inputId Element ID of the input file picker element.\n",
              " * @param {string} outputId Element ID of the output display.\n",
              " * @return {!Iterable<!Object>} Iterable of next steps.\n",
              " */\n",
              "function* uploadFilesStep(inputId, outputId) {\n",
              "  const inputElement = document.getElementById(inputId);\n",
              "  inputElement.disabled = false;\n",
              "\n",
              "  const outputElement = document.getElementById(outputId);\n",
              "  outputElement.innerHTML = '';\n",
              "\n",
              "  const pickedPromise = new Promise((resolve) => {\n",
              "    inputElement.addEventListener('change', (e) => {\n",
              "      resolve(e.target.files);\n",
              "    });\n",
              "  });\n",
              "\n",
              "  const cancel = document.createElement('button');\n",
              "  inputElement.parentElement.appendChild(cancel);\n",
              "  cancel.textContent = 'Cancel upload';\n",
              "  const cancelPromise = new Promise((resolve) => {\n",
              "    cancel.onclick = () => {\n",
              "      resolve(null);\n",
              "    };\n",
              "  });\n",
              "\n",
              "  // Wait for the user to pick the files.\n",
              "  const files = yield {\n",
              "    promise: Promise.race([pickedPromise, cancelPromise]),\n",
              "    response: {\n",
              "      action: 'starting',\n",
              "    }\n",
              "  };\n",
              "\n",
              "  cancel.remove();\n",
              "\n",
              "  // Disable the input element since further picks are not allowed.\n",
              "  inputElement.disabled = true;\n",
              "\n",
              "  if (!files) {\n",
              "    return {\n",
              "      response: {\n",
              "        action: 'complete',\n",
              "      }\n",
              "    };\n",
              "  }\n",
              "\n",
              "  for (const file of files) {\n",
              "    const li = document.createElement('li');\n",
              "    li.append(span(file.name, {fontWeight: 'bold'}));\n",
              "    li.append(span(\n",
              "        `(${file.type || 'n/a'}) - ${file.size} bytes, ` +\n",
              "        `last modified: ${\n",
              "            file.lastModifiedDate ? file.lastModifiedDate.toLocaleDateString() :\n",
              "                                    'n/a'} - `));\n",
              "    const percent = span('0% done');\n",
              "    li.appendChild(percent);\n",
              "\n",
              "    outputElement.appendChild(li);\n",
              "\n",
              "    const fileDataPromise = new Promise((resolve) => {\n",
              "      const reader = new FileReader();\n",
              "      reader.onload = (e) => {\n",
              "        resolve(e.target.result);\n",
              "      };\n",
              "      reader.readAsArrayBuffer(file);\n",
              "    });\n",
              "    // Wait for the data to be ready.\n",
              "    let fileData = yield {\n",
              "      promise: fileDataPromise,\n",
              "      response: {\n",
              "        action: 'continue',\n",
              "      }\n",
              "    };\n",
              "\n",
              "    // Use a chunked sending to avoid message size limits. See b/62115660.\n",
              "    let position = 0;\n",
              "    do {\n",
              "      const length = Math.min(fileData.byteLength - position, MAX_PAYLOAD_SIZE);\n",
              "      const chunk = new Uint8Array(fileData, position, length);\n",
              "      position += length;\n",
              "\n",
              "      const base64 = btoa(String.fromCharCode.apply(null, chunk));\n",
              "      yield {\n",
              "        response: {\n",
              "          action: 'append',\n",
              "          file: file.name,\n",
              "          data: base64,\n",
              "        },\n",
              "      };\n",
              "\n",
              "      let percentDone = fileData.byteLength === 0 ?\n",
              "          100 :\n",
              "          Math.round((position / fileData.byteLength) * 100);\n",
              "      percent.textContent = `${percentDone}% done`;\n",
              "\n",
              "    } while (position < fileData.byteLength);\n",
              "  }\n",
              "\n",
              "  // All done.\n",
              "  yield {\n",
              "    response: {\n",
              "      action: 'complete',\n",
              "    }\n",
              "  };\n",
              "}\n",
              "\n",
              "scope.google = scope.google || {};\n",
              "scope.google.colab = scope.google.colab || {};\n",
              "scope.google.colab._files = {\n",
              "  _uploadFiles,\n",
              "  _uploadFilesContinue,\n",
              "};\n",
              "})(self);\n",
              "</script> "
            ]
          },
          "metadata": {}
        },
        {
          "output_type": "stream",
          "name": "stdout",
          "text": [
            "Saving 01 comprar_alquilar Anahí Romo 09-11-22.csv to 01 comprar_alquilar Anahí Romo 09-11-22.csv\n"
          ]
        },
        {
          "output_type": "execute_result",
          "data": {
            "text/plain": [
              "{'01 comprar_alquilar Anahí Romo 09-11-22.csv': b'ingresos,gastos_comunes,pago_coche,gastos_otros,ahorros,vivienda,estado_civil,hijos,trabajo,comprar\\r\\n6000,1000,0,600,50000,400000,0,2,2,1\\r\\n6745,944,123,429,43240,636897,1,3,6,0\\r\\n6455,1033,98,795,57463,321779,2,1,8,1\\r\\n7098,1278,15,254,54506,660933,0,0,3,0\\r\\n6167,863,223,520,41512,348932,0,0,3,1\\r\\n5692,911,11,325,50875,360863,1,4,5,1\\r\\n6830,1298,345,309,46761,429812,1,1,5,1\\r\\n6470,1035,39,782,57439,606291,0,0,1,0\\r\\n6251,1250,209,571,50503,291010,0,0,3,1\\r\\n6987,1258,252,245,40611,324098,2,1,7,1\\r\\n7273,1455,303,201,39340,577972,0,0,0,0\\r\\n5058,1012,74,463,51836,427334,2,0,2,0\\r\\n5663,793,121,225,67971,524971,2,3,6,1\\r\\n6139,921,210,387,65438,333239,1,3,8,1\\r\\n7567,1059,341,339,42462,641963,2,2,5,0\\r\\n5749,690,291,698,50257,305122,2,0,4,1\\r\\n5685,910,182,271,66947,365809,1,2,8,1\\r\\n6722,807,52,779,66020,593711,2,2,7,0\\r\\n7705,1387,348,366,65410,597411,0,0,2,0\\r\\n6038,966,53,270,69636,286581,1,1,7,1\\r\\n6840,889,127,263,50080,455906,2,0,0,0\\r\\n6519,782,274,232,69934,569270,2,1,8,1\\r\\n7831,1096,315,229,62661,653266,0,0,1,0\\r\\n6717,806,265,260,49606,295710,2,1,8,1\\r\\n5099,867,73,336,40451,340230,0,0,1,1\\r\\n5897,1061,273,499,64423,435700,0,0,3,0\\r\\n5294,688,71,725,48188,444817,1,4,5,0\\r\\n6148,1168,93,413,68048,512193,0,0,4,0\\r\\n7939,1350,69,552,52197,443279,0,0,4,1\\r\\n7287,874,143,525,40079,297363,1,4,8,1\\r\\n7422,1336,230,418,48257,338751,2,1,8,1\\r\\n6381,766,333,571,43227,560508,1,0,2,0\\r\\n5163,620,99,696,64331,669540,2,3,5,0\\r\\n5458,1037,109,393,38791,496089,0,0,0,0\\r\\n7349,1102,221,402,48110,346403,0,0,3,1\\r\\n7174,1220,171,824,39913,486401,2,1,6,1\\r\\n7276,1455,285,384,61125,443008,0,0,0,0\\r\\n7984,958,181,828,47359,397624,1,3,6,1\\r\\n6025,964,187,567,63892,302117,1,2,5,1\\r\\n6692,1205,132,641,64832,553305,1,2,7,0\\r\\n6822,1296,81,786,50433,669054,0,0,0,0\\r\\n6044,967,239,615,66145,395608,1,1,5,1\\r\\n5218,626,2,470,63208,631366,1,1,7,0\\r\\n7413,890,262,709,68843,619056,2,3,7,1\\r\\n6952,1043,251,319,43326,545659,0,0,3,0\\r\\n5515,993,156,247,50121,286808,1,0,4,1\\r\\n5126,615,258,514,41683,313057,0,0,4,1\\r\\n5536,720,174,285,49221,357007,1,2,5,1\\r\\n7180,862,258,268,50418,386817,2,1,6,1\\r\\n6959,1392,333,818,67714,571076,0,0,3,0\\r\\n4952,1585,53,566,29597,261983,1,2,7,1\\r\\n2928,820,25,577,28184,290076,1,1,8,0\\r\\n2036,550,403,617,32738,224583,2,1,7,0\\r\\n3961,951,423,366,10746,265455,1,3,5,0\\r\\n2516,755,64,601,16649,262250,0,0,1,0\\r\\n3382,710,94,357,24576,228510,1,4,7,1\\r\\n4119,906,251,643,24196,288956,2,0,3,0\\r\\n3951,1027,443,569,24268,233354,1,0,1,0\\r\\n4792,1198,90,655,32444,335019,0,0,0,0\\r\\n3731,1045,320,304,39448,349870,0,0,1,0\\r\\n4736,947,21,647,26689,212121,2,3,7,1\\r\\n4433,1374,337,538,11171,380195,1,1,7,0\\r\\n4909,1424,323,610,16475,341337,0,0,1,0\\r\\n3105,559,318,690,31271,317379,1,3,8,0\\r\\n2138,449,228,617,13923,398611,0,0,1,0\\r\\n2274,728,161,378,26207,196232,2,1,6,0\\r\\n2032,569,348,513,17902,209280,2,1,8,0\\r\\n3361,1008,63,746,25404,254237,0,0,3,0\\r\\n3043,578,290,460,28647,229343,2,1,5,0\\r\\n3473,660,107,428,25235,182365,0,0,4,1\\r\\n3162,822,64,453,26270,216440,2,2,6,0\\r\\n4473,1208,308,684,23830,281640,1,1,8,0\\r\\n2937,705,437,405,13268,177774,2,1,7,0\\r\\n4553,1502,18,745,28731,301332,1,1,8,0\\r\\n3733,821,188,514,15647,365570,0,0,1,0\\r\\n2409,554,392,435,29014,298841,2,3,8,0\\r\\n2369,474,131,438,19537,203052,0,0,1,0\\r\\n4503,1441,224,685,26001,289485,2,4,8,0\\r\\n4606,1336,54,532,10319,365449,1,3,6,0\\r\\n3806,761,198,524,21906,266681,2,0,2,0\\r\\n3218,611,222,341,39174,330991,2,1,6,0\\r\\n4927,1429,141,398,33863,279323,0,0,3,0\\r\\n3784,1173,448,394,17709,176553,2,0,0,0\\r\\n3437,687,56,623,11642,393544,2,0,2,0\\r\\n4648,1116,419,686,24874,191190,1,3,8,1\\r\\n4799,1344,205,339,11116,240479,2,3,6,1\\r\\n3976,1153,394,366,11697,218574,1,0,3,0\\r\\n3299,627,155,526,11972,220179,2,4,8,0\\r\\n4224,972,428,718,18604,316114,1,1,6,0\\r\\n3000,600,200,398,27572,254359,0,0,2,0\\r\\n2828,707,364,631,36993,394390,0,0,0,0\\r\\n2825,904,247,693,16953,257331,2,2,7,0\\r\\n4426,1328,152,480,11593,245454,2,1,7,1\\r\\n4532,816,224,383,13921,245131,0,0,2,1\\r\\n2448,636,158,638,32723,362523,0,0,4,0\\r\\n4517,1310,89,529,25960,227634,2,2,6,1\\r\\n4505,1171,343,627,37943,266595,0,0,4,0\\r\\n3080,585,285,521,16260,377254,0,0,4,0\\r\\n3543,992,91,372,30918,327691,1,4,6,0\\r\\n2039,387,258,362,25537,210701,0,0,4,0\\r\\n3437,687,201,735,21260,339501,2,2,5,0\\r\\n6500,1100,0,700,55000,380000,2,1,5,1\\r\\n6332,1266,32,252,55641,665167,1,0,3,0\\r\\n7289,1458,209,243,41233,488643,2,1,5,1\\r\\n5552,999,338,564,52012,385908,2,2,8,1\\r\\n7420,1336,243,660,39328,655720,2,0,4,0\\r\\n6205,1179,240,729,56904,661009,0,0,2,0\\r\\n6771,1354,38,789,64860,271947,1,1,5,1\\r\\n6813,1090,312,208,54305,635848,0,0,2,0\\r\\n6152,984,343,793,42935,403197,1,4,8,1\\r\\n6906,898,319,656,59305,365986,2,4,5,1\\r\\n7595,1367,292,406,38286,608743,2,0,3,0\\r\\n6355,953,135,740,38235,343128,0,0,1,1\\r\\n5862,762,249,334,40529,443477,0,0,4,0\\r\\n5468,1094,337,221,61055,303294,0,0,4,1\\r\\n7011,1262,11,393,40803,555296,2,4,7,1\\r\\n6744,1079,200,576,40679,446206,1,1,8,1\\r\\n6806,1361,320,437,40751,283936,2,3,6,1\\r\\n6194,991,339,624,55269,519377,2,3,5,0\\r\\n5656,905,259,543,57625,657229,1,1,6,0\\r\\n5730,860,338,295,53734,601935,1,2,6,0\\r\\n5717,1143,141,214,55043,359875,1,4,7,1\\r\\n7138,1356,27,209,64027,427780,1,2,5,1\\r\\n6762,1285,338,215,61728,636597,2,0,3,0\\r\\n5813,756,108,500,58055,328265,2,1,5,1\\r\\n5415,1083,84,754,68327,345689,1,2,5,1\\r\\n5572,1114,87,727,56337,559220,2,3,5,0\\r\\n6412,769,137,510,47203,311855,1,3,5,1\\r\\n6503,1301,295,716,55798,279795,1,4,6,1\\r\\n5558,889,168,679,61867,449413,1,2,5,1\\r\\n7063,918,293,364,63395,278315,1,2,8,1\\r\\n6222,809,270,810,41483,455865,0,0,4,0\\r\\n6325,1139,102,754,68527,588004,0,0,0,0\\r\\n6264,1065,197,644,55703,431159,1,0,0,0\\r\\n5593,839,121,416,44487,539242,1,0,0,0\\r\\n5514,772,147,672,67815,397838,0,0,0,0\\r\\n6347,1016,13,268,41468,552796,0,0,1,0\\r\\n6058,969,289,531,50014,455751,1,2,7,1\\r\\n7877,1339,332,617,56941,300240,1,2,7,1\\r\\n5848,819,168,652,69366,559906,2,2,5,0\\r\\n7758,1086,70,230,51489,445679,0,0,3,1\\r\\n6384,958,346,549,40804,333566,1,4,7,1\\r\\n7777,1089,213,564,43472,303736,1,0,4,1\\r\\n7505,1501,302,364,38328,487697,2,1,8,1\\r\\n5791,811,208,417,40166,643683,1,0,4,0\\r\\n5646,1016,215,747,69276,655399,0,0,1,0\\r\\n6495,909,341,788,62320,625528,2,4,6,0\\r\\n5264,1053,17,691,57408,364105,1,3,8,1\\r\\n7033,1196,294,216,61329,667865,2,0,2,0\\r\\n5502,715,299,705,48264,561852,0,0,4,0\\r\\n6935,971,99,425,65541,662258,0,0,1,0\\r\\n3586,932,81,382,35361,242562,0,0,3,0\\r\\n4883,1025,25,444,27294,244767,2,1,5,1\\r\\n4885,928,8,670,16671,181736,0,0,0,0\\r\\n4403,1497,18,384,37034,391533,0,0,1,0\\r\\n3026,787,21,397,30449,365493,0,0,4,0\\r\\n4714,1414,403,557,37411,358242,2,0,1,0\\r\\n2974,744,346,746,15982,360791,1,4,6,0\\r\\n2550,510,73,434,15890,201278,2,3,5,0\\r\\n3504,1051,447,351,29890,313542,0,0,0,0\\r\\n2024,486,398,494,14569,234991,2,3,7,0\\r\\n3084,678,432,448,17211,378697,1,3,5,0\\r\\n3234,809,368,441,22523,213521,2,3,8,0\\r\\n4749,1377,355,304,34841,328575,2,2,6,0\\r\\n3602,1081,145,490,11083,394180,2,0,2,0\\r\\n4203,1219,203,412,19568,310442,2,4,8,0\\r\\n3685,1069,111,481,28379,282992,1,2,7,0\\r\\n3039,1003,447,546,36807,274577,0,0,1,0\\r\\n2485,572,90,432,18464,304018,1,2,7,0\\r\\n3641,837,186,627,27808,273334,2,3,7,0\\r\\n2151,688,95,382,12203,339143,2,1,6,0\\r\\n2077,644,182,723,12596,310082,0,0,3,0\\r\\n4276,941,390,728,11718,294150,0,0,3,0\\r\\n2028,487,411,568,33194,264287,2,1,5,0\\r\\n4943,1186,402,570,27644,390089,0,0,2,0\\r\\n2593,596,248,708,16779,275509,2,2,8,0\\r\\n2064,454,199,666,38718,356201,0,0,2,0\\r\\n2614,732,375,527,21365,294601,0,0,2,0\\r\\n4507,811,161,687,36284,211998,2,3,6,1\\r\\n2028,690,167,325,37309,284984,2,0,3,0\\r\\n2022,384,88,701,22210,291439,2,3,7,0\\r\\n3608,686,195,406,36506,350589,1,1,8,0\\r\\n3973,1112,440,630,17385,221634,2,2,7,0\\r\\n3395,1120,234,597,37479,239707,1,2,8,0\\r\\n4434,1375,167,734,29498,201983,0,0,0,0\\r\\n4025,1369,32,493,38752,225841,1,4,5,1\\r\\n2308,577,152,657,33131,257224,0,0,2,0\\r\\n3169,1014,429,705,14867,177454,2,2,7,0\\r\\n4708,1459,84,567,32314,379520,0,0,0,0\\r\\n2265,430,394,745,19218,248465,0,0,2,0\\r\\n2008,643,257,494,25658,180374,2,3,5,0\\r\\n3796,1025,323,316,35445,210261,0,0,1,0\\r\\n4653,1024,447,703,16952,392957,0,0,3,0\\r\\n3390,881,194,584,34601,304112,2,2,5,0\\r\\n2969,623,72,620,29663,289205,2,2,6,0\\r\\n4169,1292,48,333,28503,239872,2,1,7,1\\r\\n4054,1095,371,440,22183,223971,1,0,3,0\\r\\n3831,690,352,488,10723,363120,0,0,2,0\\r\\n3961,1030,270,475,21880,280421,2,3,8,0\\r\\n3184,955,276,684,35565,388025,1,3,8,0\\r\\n3334,867,369,652,19985,376892,1,2,5,0\\r\\n3988,1157,105,382,11980,257580,0,0,4,0'}"
            ]
          },
          "metadata": {},
          "execution_count": 4
        }
      ]
    },
    {
      "cell_type": "code",
      "source": [
        "#We load the data into a dataframe\n",
        "casas=pd.read_csv(\"01 comprar_alquilar Anahí Romo 09-11-22.csv\")\n",
        "casas.shape # We look at how the dataframe is"
      ],
      "metadata": {
        "colab": {
          "base_uri": "https://localhost:8080/"
        },
        "id": "6kpflFMdo7EN",
        "outputId": "14a7f110-4a27-4ebc-bf82-97656ec64146"
      },
      "execution_count": 5,
      "outputs": [
        {
          "output_type": "execute_result",
          "data": {
            "text/plain": [
              "(202, 10)"
            ]
          },
          "metadata": {},
          "execution_count": 5
        }
      ]
    },
    {
      "cell_type": "code",
      "source": [
        "print(casas.head(10)) #We look at the first 10 lines\n",
        "casas.columns"
      ],
      "metadata": {
        "colab": {
          "base_uri": "https://localhost:8080/"
        },
        "id": "hKBvA9kwo7Ma",
        "outputId": "71afbdd4-0609-4211-bb53-2bb2dc75b5f1"
      },
      "execution_count": 6,
      "outputs": [
        {
          "output_type": "stream",
          "name": "stdout",
          "text": [
            "   ingresos  gastos_comunes  pago_coche  gastos_otros  ahorros  vivienda  \\\n",
            "0      6000            1000           0           600    50000    400000   \n",
            "1      6745             944         123           429    43240    636897   \n",
            "2      6455            1033          98           795    57463    321779   \n",
            "3      7098            1278          15           254    54506    660933   \n",
            "4      6167             863         223           520    41512    348932   \n",
            "5      5692             911          11           325    50875    360863   \n",
            "6      6830            1298         345           309    46761    429812   \n",
            "7      6470            1035          39           782    57439    606291   \n",
            "8      6251            1250         209           571    50503    291010   \n",
            "9      6987            1258         252           245    40611    324098   \n",
            "\n",
            "   estado_civil  hijos  trabajo  comprar  \n",
            "0             0      2        2        1  \n",
            "1             1      3        6        0  \n",
            "2             2      1        8        1  \n",
            "3             0      0        3        0  \n",
            "4             0      0        3        1  \n",
            "5             1      4        5        1  \n",
            "6             1      1        5        1  \n",
            "7             0      0        1        0  \n",
            "8             0      0        3        1  \n",
            "9             2      1        7        1  \n"
          ]
        },
        {
          "output_type": "execute_result",
          "data": {
            "text/plain": [
              "Index(['ingresos', 'gastos_comunes', 'pago_coche', 'gastos_otros', 'ahorros',\n",
              "       'vivienda', 'estado_civil', 'hijos', 'trabajo', 'comprar'],\n",
              "      dtype='object')"
            ]
          },
          "metadata": {},
          "execution_count": 6
        }
      ]
    },
    {
      "cell_type": "code",
      "source": [
        "print(casas.groupby(\"comprar\").size()) #We want to see how many \"buys\" there are\n",
        "sns.catplot(\"comprar\",data=casas,kind=\"count\")\n",
        "\"podemos ver un claro desvalance\""
      ],
      "metadata": {
        "colab": {
          "base_uri": "https://localhost:8080/",
          "height": 456
        },
        "id": "u-uoS212Cttf",
        "outputId": "4df078e2-1784-4cbc-8499-2978384c17c2"
      },
      "execution_count": 7,
      "outputs": [
        {
          "output_type": "stream",
          "name": "stdout",
          "text": [
            "comprar\n",
            "0    135\n",
            "1     67\n",
            "dtype: int64\n"
          ]
        },
        {
          "output_type": "execute_result",
          "data": {
            "text/plain": [
              "'podemos ver un claro desvalance'"
            ],
            "application/vnd.google.colaboratory.intrinsic+json": {
              "type": "string"
            }
          },
          "metadata": {},
          "execution_count": 7
        },
        {
          "output_type": "display_data",
          "data": {
            "text/plain": [
              "<Figure size 360x360 with 1 Axes>"
            ],
            "image/png": "[encoded data removed]"
          },
          "metadata": {
            "needs_background": "light"
          }
        }
      ]
    },
    {
      "cell_type": "code",
      "source": [
        "casas.isnull().sum()#We look for null values, if not it is an ideal dataframe"
      ],
      "metadata": {
        "colab": {
          "base_uri": "https://localhost:8080/"
        },
        "id": "kKnIydKoEDnD",
        "outputId": "697941a9-09ce-41ce-a80f-7649d87fef73"
      },
      "execution_count": 8,
      "outputs": [
        {
          "output_type": "execute_result",
          "data": {
            "text/plain": [
              "ingresos          0\n",
              "gastos_comunes    0\n",
              "pago_coche        0\n",
              "gastos_otros      0\n",
              "ahorros           0\n",
              "vivienda          0\n",
              "estado_civil      0\n",
              "hijos             0\n",
              "trabajo           0\n",
              "comprar           0\n",
              "dtype: int64"
            ]
          },
          "metadata": {},
          "execution_count": 8
        }
      ]
    },
    {
      "cell_type": "code",
      "source": [
        "#We do an explosive analysis\n",
        "#We see how the characteristics are distributed without the \"buy\" column.\n",
        "#plt.figure(figsize=(20,20))\n",
        "columnas=[\"ingresos\",\"gastos_comunes\",\"pago_coche\",\"gastos_otros\",\"ahorros\",\"vivienda\",\"estado_civil\",\"hijos\",\"trabajo\"]\n",
        "casas[columnas].hist(figsize=(10,7),color=\"magenta\",edgecolor=\"cyan\")# We assemble the histogram\n",
        "\n",
        "\n",
        "\n",
        "\"The scales are very different from each other, so we must standardize they or the algorithm will focus on the highest values\"\n",
        "\"We realize they are three categorical characteristics: marital status, children and work; which we will no take in consideration.\"\n",
        "\"Also the characteristics don't have a normal distribution, with the possible exception of gastos_comunes\"#To use Gauss they have to have normal distribution\n",
        " "
      ],
      "metadata": {
        "colab": {
          "base_uri": "https://localhost:8080/",
          "height": 462
        },
        "id": "sYXi7fGEDYKk",
        "outputId": "9fe41ee0-925b-41c0-8f30-7a879806a2da"
      },
      "execution_count": 9,
      "outputs": [
        {
          "output_type": "execute_result",
          "data": {
            "text/plain": [
              "'The characteristics have no normal distribution, with the possible exception of gastos_comunes'"
            ],
            "application/vnd.google.colaboratory.intrinsic+json": {
              "type": "string"
            }
          },
          "metadata": {},
          "execution_count": 9
        },
        {
          "output_type": "display_data",
          "data": {
            "text/plain": [
              "<Figure size 720x504 with 9 Axes>"
            ],
            "image/png": "[encoded data removed]"
          },
          "metadata": {
            "needs_background": "light"
          }
        }
      ]
    },
    {
      "cell_type": "code",
      "source": [
        "#We normalize features and remove non-categoricals\n",
        "#Grouping expenses\n",
        "casas[\"gastos\"]=(casas[\"gastos_comunes\"]+casas[\"gastos_otros\"]+casas[\"pago_coche\"])\n",
        "#We combine the columns that we don't use renaming as \"gastos\".\n",
        "comprarOno=casas.drop([\"gastos_comunes\",\"gastos_otros\",\"pago_coche\"],axis=1)\n",
        "comprarOno.head(10)"
      ],
      "metadata": {
        "colab": {
          "base_uri": "https://localhost:8080/",
          "height": 363
        },
        "id": "R8MtZO2zCt2J",
        "outputId": "913c1f29-5552-4e54-e0a3-b383e084a2a6"
      },
      "execution_count": 10,
      "outputs": [
        {
          "output_type": "execute_result",
          "data": {
            "text/plain": [
              "   ingresos  ahorros  vivienda  estado_civil  hijos  trabajo  comprar  gastos\n",
              "0      6000    50000    400000             0      2        2        1    1600\n",
              "1      6745    43240    636897             1      3        6        0    1496\n",
              "2      6455    57463    321779             2      1        8        1    1926\n",
              "3      7098    54506    660933             0      0        3        0    1547\n",
              "4      6167    41512    348932             0      0        3        1    1606\n",
              "5      5692    50875    360863             1      4        5        1    1247\n",
              "6      6830    46761    429812             1      1        5        1    1952\n",
              "7      6470    57439    606291             0      0        1        0    1856\n",
              "8      6251    50503    291010             0      0        3        1    2030\n",
              "9      6987    40611    324098             2      1        7        1    1755"
            ],
            "text/html": [
              "\n",
              "  <div id=\"df-47efc991-415c-460b-b141-f84d452e8586\">\n",
              "    <div class=\"colab-df-container\">\n",
              "      <div>\n",
              "<style scoped>\n",
              "    .dataframe tbody tr th:only-of-type {\n",
              "        vertical-align: middle;\n",
              "    }\n",
              "\n",
              "    .dataframe tbody tr th {\n",
              "        vertical-align: top;\n",
              "    }\n",
              "\n",
              "    .dataframe thead th {\n",
              "        text-align: right;\n",
              "    }\n",
              "</style>\n",
              "<table border=\"1\" class=\"dataframe\">\n",
              "  <thead>\n",
              "    <tr style=\"text-align: right;\">\n",
              "      <th></th>\n",
              "      <th>ingresos</th>\n",
              "      <th>ahorros</th>\n",
              "      <th>vivienda</th>\n",
              "      <th>estado_civil</th>\n",
              "      <th>hijos</th>\n",
              "      <th>trabajo</th>\n",
              "      <th>comprar</th>\n",
              "      <th>gastos</th>\n",
              "    </tr>\n",
              "  </thead>\n",
              "  <tbody>\n",
              "    <tr>\n",
              "      <th>0</th>\n",
              "      <td>6000</td>\n",
              "      <td>50000</td>\n",
              "      <td>400000</td>\n",
              "      <td>0</td>\n",
              "      <td>2</td>\n",
              "      <td>2</td>\n",
              "      <td>1</td>\n",
              "      <td>1600</td>\n",
              "    </tr>\n",
              "    <tr>\n",
              "      <th>1</th>\n",
              "      <td>6745</td>\n",
              "      <td>43240</td>\n",
              "      <td>636897</td>\n",
              "      <td>1</td>\n",
              "      <td>3</td>\n",
              "      <td>6</td>\n",
              "      <td>0</td>\n",
              "      <td>1496</td>\n",
              "    </tr>\n",
              "    <tr>\n",
              "      <th>2</th>\n",
              "      <td>6455</td>\n",
              "      <td>57463</td>\n",
              "      <td>321779</td>\n",
              "      <td>2</td>\n",
              "      <td>1</td>\n",
              "      <td>8</td>\n",
              "      <td>1</td>\n",
              "      <td>1926</td>\n",
              "    </tr>\n",
              "    <tr>\n",
              "      <th>3</th>\n",
              "      <td>7098</td>\n",
              "      <td>54506</td>\n",
              "      <td>660933</td>\n",
              "      <td>0</td>\n",
              "      <td>0</td>\n",
              "      <td>3</td>\n",
              "      <td>0</td>\n",
              "      <td>1547</td>\n",
              "    </tr>\n",
              "    <tr>\n",
              "      <th>4</th>\n",
              "      <td>6167</td>\n",
              "      <td>41512</td>\n",
              "      <td>348932</td>\n",
              "      <td>0</td>\n",
              "      <td>0</td>\n",
              "      <td>3</td>\n",
              "      <td>1</td>\n",
              "      <td>1606</td>\n",
              "    </tr>\n",
              "    <tr>\n",
              "      <th>5</th>\n",
              "      <td>5692</td>\n",
              "      <td>50875</td>\n",
              "      <td>360863</td>\n",
              "      <td>1</td>\n",
              "      <td>4</td>\n",
              "      <td>5</td>\n",
              "      <td>1</td>\n",
              "      <td>1247</td>\n",
              "    </tr>\n",
              "    <tr>\n",
              "      <th>6</th>\n",
              "      <td>6830</td>\n",
              "      <td>46761</td>\n",
              "      <td>429812</td>\n",
              "      <td>1</td>\n",
              "      <td>1</td>\n",
              "      <td>5</td>\n",
              "      <td>1</td>\n",
              "      <td>1952</td>\n",
              "    </tr>\n",
              "    <tr>\n",
              "      <th>7</th>\n",
              "      <td>6470</td>\n",
              "      <td>57439</td>\n",
              "      <td>606291</td>\n",
              "      <td>0</td>\n",
              "      <td>0</td>\n",
              "      <td>1</td>\n",
              "      <td>0</td>\n",
              "      <td>1856</td>\n",
              "    </tr>\n",
              "    <tr>\n",
              "      <th>8</th>\n",
              "      <td>6251</td>\n",
              "      <td>50503</td>\n",
              "      <td>291010</td>\n",
              "      <td>0</td>\n",
              "      <td>0</td>\n",
              "      <td>3</td>\n",
              "      <td>1</td>\n",
              "      <td>2030</td>\n",
              "    </tr>\n",
              "    <tr>\n",
              "      <th>9</th>\n",
              "      <td>6987</td>\n",
              "      <td>40611</td>\n",
              "      <td>324098</td>\n",
              "      <td>2</td>\n",
              "      <td>1</td>\n",
              "      <td>7</td>\n",
              "      <td>1</td>\n",
              "      <td>1755</td>\n",
              "    </tr>\n",
              "  </tbody>\n",
              "</table>\n",
              "</div>\n",
              "      <button class=\"colab-df-convert\" onclick=\"convertToInteractive('df-47efc991-415c-460b-b141-f84d452e8586')\"\n",
              "              title=\"Convert this dataframe to an interactive table.\"\n",
              "              style=\"display:none;\">\n",
              "        \n",
              "  <svg xmlns=\"http://www.w3.org/2000/svg\" height=\"24px\"viewBox=\"0 0 24 24\"\n",
              "       width=\"24px\">\n",
              "    <path d=\"M0 0h24v24H0V0z\" fill=\"none\"/>\n",
              "    <path d=\"M18.56 5.44l.94 2.06.94-2.06 2.06-.94-2.06-.94-.94-2.06-.94 2.06-2.06.94zm-11 1L8.5 8.5l.94-2.06 2.06-.94-2.06-.94L8.5 2.5l-.94 2.06-2.06.94zm10 10l.94 2.06.94-2.06 2.06-.94-2.06-.94-.94-2.06-.94 2.06-2.06.94z\"/><path d=\"M17.41 7.96l-1.37-1.37c-.4-.4-.92-.59-1.43-.59-.52 0-1.04.2-1.43.59L10.3 9.45l-7.72 7.72c-.78.78-.78 2.05 0 2.83L4 21.41c.39.39.9.59 1.41.59.51 0 1.02-.2 1.41-.59l7.78-7.78 2.81-2.81c.8-.78.8-2.07 0-2.86zM5.41 20L4 18.59l7.72-7.72 1.47 1.35L5.41 20z\"/>\n",
              "  </svg>\n",
              "      </button>\n",
              "      \n",
              "  <style>\n",
              "    .colab-df-container {\n",
              "      display:flex;\n",
              "      flex-wrap:wrap;\n",
              "      gap: 12px;\n",
              "    }\n",
              "\n",
              "    .colab-df-convert {\n",
              "      background-color: #E8F0FE;\n",
              "      border: none;\n",
              "      border-radius: 50%;\n",
              "      cursor: pointer;\n",
              "      display: none;\n",
              "      fill: #1967D2;\n",
              "      height: 32px;\n",
              "      padding: 0 0 0 0;\n",
              "      width: 32px;\n",
              "    }\n",
              "\n",
              "    .colab-df-convert:hover {\n",
              "      background-color: #E2EBFA;\n",
              "      box-shadow: 0px 1px 2px rgba(60, 64, 67, 0.3), 0px 1px 3px 1px rgba(60, 64, 67, 0.15);\n",
              "      fill: #174EA6;\n",
              "    }\n",
              "\n",
              "    [theme=dark] .colab-df-convert {\n",
              "      background-color: #3B4455;\n",
              "      fill: #D2E3FC;\n",
              "    }\n",
              "\n",
              "    [theme=dark] .colab-df-convert:hover {\n",
              "      background-color: #434B5C;\n",
              "      box-shadow: 0px 1px 3px 1px rgba(0, 0, 0, 0.15);\n",
              "      filter: drop-shadow(0px 1px 2px rgba(0, 0, 0, 0.3));\n",
              "      fill: #FFFFFF;\n",
              "    }\n",
              "  </style>\n",
              "\n",
              "      <script>\n",
              "        const buttonEl =\n",
              "          document.querySelector('#df-47efc991-415c-460b-b141-f84d452e8586 button.colab-df-convert');\n",
              "        buttonEl.style.display =\n",
              "          google.colab.kernel.accessAllowed ? 'block' : 'none';\n",
              "\n",
              "        async function convertToInteractive(key) {\n",
              "          const element = document.querySelector('#df-47efc991-415c-460b-b141-f84d452e8586');\n",
              "          const dataTable =\n",
              "            await google.colab.kernel.invokeFunction('convertToInteractive',\n",
              "                                                     [key], {});\n",
              "          if (!dataTable) return;\n",
              "\n",
              "          const docLinkHtml = 'Like what you see? Visit the ' +\n",
              "            '<a target=\"_blank\" href=https://colab.research.google.com/notebooks/data_table.ipynb>data table notebook</a>'\n",
              "            + ' to learn more about interactive tables.';\n",
              "          element.innerHTML = '';\n",
              "          dataTable['output_type'] = 'display_data';\n",
              "          await google.colab.output.renderOutput(dataTable, element);\n",
              "          const docLink = document.createElement('div');\n",
              "          docLink.innerHTML = docLinkHtml;\n",
              "          element.appendChild(docLink);\n",
              "        }\n",
              "      </script>\n",
              "    </div>\n",
              "  </div>\n",
              "  "
            ]
          },
          "metadata": {},
          "execution_count": 10
        }
      ]
    },
    {
      "cell_type": "code",
      "source": [
        "#We show the statistical summary of the transformed DF\n",
        "comprarOno.describe().T"
      ],
      "metadata": {
        "colab": {
          "base_uri": "https://localhost:8080/",
          "height": 300
        },
        "id": "MnkgFEmQCt_M",
        "outputId": "05f1515f-62d2-4e70-9f4c-456fe1676357"
      },
      "execution_count": 11,
      "outputs": [
        {
          "output_type": "execute_result",
          "data": {
            "text/plain": [
              "              count           mean            std       min        25%  \\\n",
              "ingresos      202.0    4958.995050    1682.862556    2008.0    3513.75   \n",
              "ahorros       202.0   38749.668317   17365.231870   10319.0   24964.25   \n",
              "vivienda      202.0  373349.638614  136371.525622  176553.0  274810.00   \n",
              "estado_civil  202.0       1.024752       0.837184       0.0       0.00   \n",
              "hijos         202.0       1.232673       1.367833       0.0       0.00   \n",
              "trabajo       202.0       4.490099       2.535794       0.0       2.00   \n",
              "comprar       202.0       0.331683       0.471988       0.0       0.00   \n",
              "gastos        202.0    1698.752475     324.838005    1007.0    1430.50   \n",
              "\n",
              "                   50%        75%       max  \n",
              "ingresos        4947.5    6374.50    7984.0  \n",
              "ahorros        38523.0   52150.75   69934.0  \n",
              "vivienda      340783.5  444482.00  669540.0  \n",
              "estado_civil       1.0       2.00       2.0  \n",
              "hijos              1.0       2.00       4.0  \n",
              "trabajo            5.0       7.00       8.0  \n",
              "comprar            0.0       1.00       1.0  \n",
              "gastos          1669.5    1928.00    2543.0  "
            ],
            "text/html": [
              "\n",
              "  <div id=\"df-ca9b7e8b-1e5c-4151-b495-19911788eaeb\">\n",
              "    <div class=\"colab-df-container\">\n",
              "      <div>\n",
              "<style scoped>\n",
              "    .dataframe tbody tr th:only-of-type {\n",
              "        vertical-align: middle;\n",
              "    }\n",
              "\n",
              "    .dataframe tbody tr th {\n",
              "        vertical-align: top;\n",
              "    }\n",
              "\n",
              "    .dataframe thead th {\n",
              "        text-align: right;\n",
              "    }\n",
              "</style>\n",
              "<table border=\"1\" class=\"dataframe\">\n",
              "  <thead>\n",
              "    <tr style=\"text-align: right;\">\n",
              "      <th></th>\n",
              "      <th>count</th>\n",
              "      <th>mean</th>\n",
              "      <th>std</th>\n",
              "      <th>min</th>\n",
              "      <th>25%</th>\n",
              "      <th>50%</th>\n",
              "      <th>75%</th>\n",
              "      <th>max</th>\n",
              "    </tr>\n",
              "  </thead>\n",
              "  <tbody>\n",
              "    <tr>\n",
              "      <th>ingresos</th>\n",
              "      <td>202.0</td>\n",
              "      <td>4958.995050</td>\n",
              "      <td>1682.862556</td>\n",
              "      <td>2008.0</td>\n",
              "      <td>3513.75</td>\n",
              "      <td>4947.5</td>\n",
              "      <td>6374.50</td>\n",
              "      <td>7984.0</td>\n",
              "    </tr>\n",
              "    <tr>\n",
              "      <th>ahorros</th>\n",
              "      <td>202.0</td>\n",
              "      <td>38749.668317</td>\n",
              "      <td>17365.231870</td>\n",
              "      <td>10319.0</td>\n",
              "      <td>24964.25</td>\n",
              "      <td>38523.0</td>\n",
              "      <td>52150.75</td>\n",
              "      <td>69934.0</td>\n",
              "    </tr>\n",
              "    <tr>\n",
              "      <th>vivienda</th>\n",
              "      <td>202.0</td>\n",
              "      <td>373349.638614</td>\n",
              "      <td>136371.525622</td>\n",
              "      <td>176553.0</td>\n",
              "      <td>274810.00</td>\n",
              "      <td>340783.5</td>\n",
              "      <td>444482.00</td>\n",
              "      <td>669540.0</td>\n",
              "    </tr>\n",
              "    <tr>\n",
              "      <th>estado_civil</th>\n",
              "      <td>202.0</td>\n",
              "      <td>1.024752</td>\n",
              "      <td>0.837184</td>\n",
              "      <td>0.0</td>\n",
              "      <td>0.00</td>\n",
              "      <td>1.0</td>\n",
              "      <td>2.00</td>\n",
              "      <td>2.0</td>\n",
              "    </tr>\n",
              "    <tr>\n",
              "      <th>hijos</th>\n",
              "      <td>202.0</td>\n",
              "      <td>1.232673</td>\n",
              "      <td>1.367833</td>\n",
              "      <td>0.0</td>\n",
              "      <td>0.00</td>\n",
              "      <td>1.0</td>\n",
              "      <td>2.00</td>\n",
              "      <td>4.0</td>\n",
              "    </tr>\n",
              "    <tr>\n",
              "      <th>trabajo</th>\n",
              "      <td>202.0</td>\n",
              "      <td>4.490099</td>\n",
              "      <td>2.535794</td>\n",
              "      <td>0.0</td>\n",
              "      <td>2.00</td>\n",
              "      <td>5.0</td>\n",
              "      <td>7.00</td>\n",
              "      <td>8.0</td>\n",
              "    </tr>\n",
              "    <tr>\n",
              "      <th>comprar</th>\n",
              "      <td>202.0</td>\n",
              "      <td>0.331683</td>\n",
              "      <td>0.471988</td>\n",
              "      <td>0.0</td>\n",
              "      <td>0.00</td>\n",
              "      <td>0.0</td>\n",
              "      <td>1.00</td>\n",
              "      <td>1.0</td>\n",
              "    </tr>\n",
              "    <tr>\n",
              "      <th>gastos</th>\n",
              "      <td>202.0</td>\n",
              "      <td>1698.752475</td>\n",
              "      <td>324.838005</td>\n",
              "      <td>1007.0</td>\n",
              "      <td>1430.50</td>\n",
              "      <td>1669.5</td>\n",
              "      <td>1928.00</td>\n",
              "      <td>2543.0</td>\n",
              "    </tr>\n",
              "  </tbody>\n",
              "</table>\n",
              "</div>\n",
              "      <button class=\"colab-df-convert\" onclick=\"convertToInteractive('df-ca9b7e8b-1e5c-4151-b495-19911788eaeb')\"\n",
              "              title=\"Convert this dataframe to an interactive table.\"\n",
              "              style=\"display:none;\">\n",
              "        \n",
              "  <svg xmlns=\"http://www.w3.org/2000/svg\" height=\"24px\"viewBox=\"0 0 24 24\"\n",
              "       width=\"24px\">\n",
              "    <path d=\"M0 0h24v24H0V0z\" fill=\"none\"/>\n",
              "    <path d=\"M18.56 5.44l.94 2.06.94-2.06 2.06-.94-2.06-.94-.94-2.06-.94 2.06-2.06.94zm-11 1L8.5 8.5l.94-2.06 2.06-.94-2.06-.94L8.5 2.5l-.94 2.06-2.06.94zm10 10l.94 2.06.94-2.06 2.06-.94-2.06-.94-.94-2.06-.94 2.06-2.06.94z\"/><path d=\"M17.41 7.96l-1.37-1.37c-.4-.4-.92-.59-1.43-.59-.52 0-1.04.2-1.43.59L10.3 9.45l-7.72 7.72c-.78.78-.78 2.05 0 2.83L4 21.41c.39.39.9.59 1.41.59.51 0 1.02-.2 1.41-.59l7.78-7.78 2.81-2.81c.8-.78.8-2.07 0-2.86zM5.41 20L4 18.59l7.72-7.72 1.47 1.35L5.41 20z\"/>\n",
              "  </svg>\n",
              "      </button>\n",
              "      \n",
              "  <style>\n",
              "    .colab-df-container {\n",
              "      display:flex;\n",
              "      flex-wrap:wrap;\n",
              "      gap: 12px;\n",
              "    }\n",
              "\n",
              "    .colab-df-convert {\n",
              "      background-color: #E8F0FE;\n",
              "      border: none;\n",
              "      border-radius: 50%;\n",
              "      cursor: pointer;\n",
              "      display: none;\n",
              "      fill: #1967D2;\n",
              "      height: 32px;\n",
              "      padding: 0 0 0 0;\n",
              "      width: 32px;\n",
              "    }\n",
              "\n",
              "    .colab-df-convert:hover {\n",
              "      background-color: #E2EBFA;\n",
              "      box-shadow: 0px 1px 2px rgba(60, 64, 67, 0.3), 0px 1px 3px 1px rgba(60, 64, 67, 0.15);\n",
              "      fill: #174EA6;\n",
              "    }\n",
              "\n",
              "    [theme=dark] .colab-df-convert {\n",
              "      background-color: #3B4455;\n",
              "      fill: #D2E3FC;\n",
              "    }\n",
              "\n",
              "    [theme=dark] .colab-df-convert:hover {\n",
              "      background-color: #434B5C;\n",
              "      box-shadow: 0px 1px 3px 1px rgba(0, 0, 0, 0.15);\n",
              "      filter: drop-shadow(0px 1px 2px rgba(0, 0, 0, 0.3));\n",
              "      fill: #FFFFFF;\n",
              "    }\n",
              "  </style>\n",
              "\n",
              "      <script>\n",
              "        const buttonEl =\n",
              "          document.querySelector('#df-ca9b7e8b-1e5c-4151-b495-19911788eaeb button.colab-df-convert');\n",
              "        buttonEl.style.display =\n",
              "          google.colab.kernel.accessAllowed ? 'block' : 'none';\n",
              "\n",
              "        async function convertToInteractive(key) {\n",
              "          const element = document.querySelector('#df-ca9b7e8b-1e5c-4151-b495-19911788eaeb');\n",
              "          const dataTable =\n",
              "            await google.colab.kernel.invokeFunction('convertToInteractive',\n",
              "                                                     [key], {});\n",
              "          if (!dataTable) return;\n",
              "\n",
              "          const docLinkHtml = 'Like what you see? Visit the ' +\n",
              "            '<a target=\"_blank\" href=https://colab.research.google.com/notebooks/data_table.ipynb>data table notebook</a>'\n",
              "            + ' to learn more about interactive tables.';\n",
              "          element.innerHTML = '';\n",
              "          dataTable['output_type'] = 'display_data';\n",
              "          await google.colab.output.renderOutput(dataTable, element);\n",
              "          const docLink = document.createElement('div');\n",
              "          docLink.innerHTML = docLinkHtml;\n",
              "          element.appendChild(docLink);\n",
              "        }\n",
              "      </script>\n",
              "    </div>\n",
              "  </div>\n",
              "  "
            ]
          },
          "metadata": {},
          "execution_count": 11
        }
      ]
    },
    {
      "cell_type": "code",
      "source": [
        "#Let's select the most relevant features from the original dataframe using just 4 columns\n",
        "X=comprarOno.drop([\"comprar\"],axis=1)# I separate between predictors and what I want to predict\n",
        "y=comprarOno[\"comprar\"]#\n",
        "mejor=SelectKBest(k=4)\n",
        "mejorX=mejor.fit_transform(X,y)\n",
        "print(mejorX.shape)\n",
        "selec=mejor.get_support(indices=True)\n",
        "print(X.columns[selec])\n",
        "\n",
        "#The suggestion of importance doesn't seem reasonable\n",
        "\n"
      ],
      "metadata": {
        "colab": {
          "base_uri": "https://localhost:8080/"
        },
        "id": "6G7ryKZ720Db",
        "outputId": "7d82887a-7a53-4f1b-bc5f-65baaf8eac46"
      },
      "execution_count": 12,
      "outputs": [
        {
          "output_type": "stream",
          "name": "stdout",
          "text": [
            "(202, 4)\n",
            "Index(['ingresos', 'ahorros', 'hijos', 'trabajo'], dtype='object')\n"
          ]
        }
      ]
    },
    {
      "cell_type": "code",
      "source": [
        "#Will the characteristics be correlated?\n",
        "#I will collect the features I consider most relevant, which are:\n",
        "usadas=[\"ingresos\",\"gastos\",\"vivienda\",\"ahorros\"]\n",
        "colormap=plt.cm.Spectral #color map\n",
        "plt.figure(figsize=(12,12))\n",
        "plt.title(\"Correlacion de Pearson de las caracteristicas\",y=1.05,size=15)\n",
        "sns.heatmap(comprarOno[usadas].astype(float).corr(),linewidths=0.1,vmax=1.0,square=True,cmap=colormap,linecolor=\"white\",annot=True)\n",
        "#Using Pearson's correlation applying corr over \"usadas\" gives an idea but is not always accurate."
      ],
      "metadata": {
        "id": "Qvd3566H3FOi",
        "colab": {
          "base_uri": "https://localhost:8080/",
          "height": 704
        },
        "outputId": "562af7f1-033d-44c5-8d72-3940d6ad0f6d"
      },
      "execution_count": 13,
      "outputs": [
        {
          "output_type": "execute_result",
          "data": {
            "text/plain": [
              "<matplotlib.axes._subplots.AxesSubplot at 0x7f1c40555580>"
            ]
          },
          "metadata": {},
          "execution_count": 13
        },
        {
          "output_type": "display_data",
          "data": {
            "text/plain": [
              "<Figure size 864x864 with 2 Axes>"
            ],
            "image/png": "[encoded data removed]"
          },
          "metadata": {
            "needs_background": "light"
          }
        }
      ]
    },
    {
      "cell_type": "code",
      "source": [
        "#We show a histogram of the features we are going to use\n",
        "comprarOno[usadas].hist(color=\"b\",edgecolor=\"red\",figsize=(10,7))\n",
        "plt.show\n",
        "#We see that neither savings nor income have a normal distribution\n"
      ],
      "metadata": {
        "id": "hUpkECTr3FVH",
        "colab": {
          "base_uri": "https://localhost:8080/",
          "height": 461
        },
        "outputId": "5da72071-2506-4a09-a66d-aa7f8714fb00"
      },
      "execution_count": 14,
      "outputs": [
        {
          "output_type": "execute_result",
          "data": {
            "text/plain": [
              "<function matplotlib.pyplot.show(*args, **kw)>"
            ]
          },
          "metadata": {},
          "execution_count": 14
        },
        {
          "output_type": "display_data",
          "data": {
            "text/plain": [
              "<Figure size 720x504 with 4 Axes>"
            ],
            "image/png": "[encoded data removed]"
          },
          "metadata": {
            "needs_background": "light"
          }
        }
      ]
    },
    {
      "cell_type": "code",
      "source": [
        "#After analyzing and preparing the dataset, we divide it in \"train\" and \"test\" using a 80/20 criteria\n",
        "#To use bayes we will focus only in the \"usadas\" columns which are supposed to be the most significant.\n",
        "X_train,X_test,y_train,y_test=train_test_split(comprarOno[usadas],comprarOno[\"comprar\"],test_size=0.2,random_state=16,stratify=comprarOno[\"comprar\"])\n",
        "#What does Stratify do? It sets the original dataset relationships to avoid the balance problem and train knowing the class distribution."
      ],
      "metadata": {
        "id": "LaaUNwPQVpA9"
      },
      "execution_count": 15,
      "outputs": []
    },
    {
      "cell_type": "code",
      "source": [
        "#Now we build the pipeline which in first place standardizes the features and then trains the NB model. Then, we create the model using naïve Gaussian Bayes.\n",
        "#We force characteristics to have a normal distribution.\n",
        "bayes=make_pipeline(StandardScaler(),GaussianNB())\n",
        "#We train it.\n",
        "bayes.fit(X_train,y_train)\n",
        "y_pred=bayes.predict(X_test)\n",
        "#We want to know how the algorithm predices in train and test.\n",
        "\n",
        "print(f\"prediccion en el set de entrenamiento:{bayes.score(X_train,y_train)}\")\n",
        "print(f\"prediccion en el set de test:{bayes.score(X_test,y_test)}\")"
      ],
      "metadata": {
        "colab": {
          "base_uri": "https://localhost:8080/"
        },
        "id": "I4CKGUn3WIom",
        "outputId": "fc9beeae-2a6c-4c58-e560-df1e1a97a85f"
      },
      "execution_count": 16,
      "outputs": [
        {
          "output_type": "stream",
          "name": "stdout",
          "text": [
            "prediccion en el set de entrenamiento:0.8757763975155279\n",
            "prediccion en el set de test:0.8292682926829268\n"
          ]
        }
      ]
    },
    {
      "cell_type": "code",
      "source": [
        "#We use the confusion matrix.\n",
        "conf=confusion_matrix(y_test,y_pred)\n",
        "#Showing as list list.\n",
        "print(conf)\n",
        "#Showing graphically.\n",
        "ConfusionMatrixDisplay(conf).plot()\n",
        "\n",
        "#On the main diagonal we have the successes. The other diagonal (purple) has the errors."
      ],
      "metadata": {
        "colab": {
          "base_uri": "https://localhost:8080/",
          "height": 331
        },
        "id": "Kiw13WSAWIz8",
        "outputId": "53101b5f-5ca4-483c-fb59-2afa8ef189a9"
      },
      "execution_count": 17,
      "outputs": [
        {
          "output_type": "stream",
          "name": "stdout",
          "text": [
            "[[24  3]\n",
            " [ 4 10]]\n"
          ]
        },
        {
          "output_type": "execute_result",
          "data": {
            "text/plain": [
              "<sklearn.metrics._plot.confusion_matrix.ConfusionMatrixDisplay at 0x7f1c40555910>"
            ]
          },
          "metadata": {},
          "execution_count": 17
        },
        {
          "output_type": "display_data",
          "data": {
            "text/plain": [
              "<Figure size 432x288 with 2 Axes>"
            ],
            "image/png": "[encoded data removed]"
          },
          "metadata": {
            "needs_background": "light"
          }
        }
      ]
    },
    {
      "cell_type": "code",
      "source": [
        "# We try to do some predictions with the following entries [\"igresos\",\"gastos\",\"vivienda\",\"ahorros\"]\n",
        "#1) 5k \"ingresos\", 2k \"gastos\", 5k \"ahorros\" and 200k \"vivienda\"\n",
        "#2) 34k \"ingresos\", 6k \"gastos\", 34k \"ahorros\" and 320k \"vivienda\"\n",
        "\n",
        "consulta1=np.asarray([5000,2000,200000,5000])\n",
        "consulta2=np.asarray([34000,6000,320000,34000])\n",
        "print(\"resultado sugerido 0 = alquilar, 1 = comprar\")\n",
        "print(bayes.predict(consulta1.reshape(1,-1)))\n",
        "print(bayes.predict(consulta2.reshape(1,-1)))\n",
        "# is a real example named differently\n",
        "consulta3=np.array([[3900,800,88000,3900],[3900,800,42000,2000],[50000000,800,23500,500000]])\n",
        "print(bayes.predict(consulta3))\n",
        "# another one\n",
        "consulta4=np.array([[5000,2200,288000,50000],[15000,2500,42000,15000],[1500,2500,23500,15000]])\n",
        "print(bayes.predict(consulta4))\n",
        "\n",
        "# As we see we must ask for predictions for data that you know\n",
        "\"Query 4 was modified in the first array value to be in the training range, unlike the other entries that are not in the training range\"\n",
        "\n"
      ],
      "metadata": {
        "colab": {
          "base_uri": "https://localhost:8080/",
          "height": 122
        },
        "id": "CPGMbrfXYtdz",
        "outputId": "f8ea5d9d-ac7d-4cca-ada2-6747c960021d"
      },
      "execution_count": 18,
      "outputs": [
        {
          "output_type": "stream",
          "name": "stdout",
          "text": [
            "resultado sugerido 0 = alquilar     1 = comprar\n",
            "[0]\n",
            "[0]\n",
            "[0 0 0]\n",
            "[1 0 0]\n"
          ]
        },
        {
          "output_type": "execute_result",
          "data": {
            "text/plain": [
              "'Query 4 was modified with value within the range of the trainee, unlike the other entries that are not above the training range'"
            ],
            "application/vnd.google.colaboratory.intrinsic+json": {
              "type": "string"
            }
          },
          "metadata": {},
          "execution_count": 18
        }
      ]
    },
    {
      "cell_type": "code",
      "source": [],
      "metadata": {
        "id": "o0BWqFLqYtuD"
      },
      "execution_count": null,
      "outputs": []
    }
  ]
}